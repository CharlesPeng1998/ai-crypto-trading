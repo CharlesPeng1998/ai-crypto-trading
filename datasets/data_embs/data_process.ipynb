{
 "cells": [
  {
   "cell_type": "code",
   "execution_count": 3,
   "id": "1070988e",
   "metadata": {},
   "outputs": [],
   "source": [
    "import pandas as pd"
   ]
  },
  {
   "cell_type": "code",
   "execution_count": 24,
   "id": "eb694c50",
   "metadata": {},
   "outputs": [],
   "source": [
    "ave_block_size = pd.read_csv('D:/master/trade_project/bitcoin/ai-crypto-trading/datasets/bitcoin_datasets/Bitcoin Average Block Size.csv')\n",
    "ave_block_size.rename(columns={'Value':'ave_block_size'}, inplace=True)\n",
    "difficulty = pd.read_csv('D:/master/trade_project/bitcoin/ai-crypto-trading/datasets/bitcoin_datasets/Bitcoin Difficulty.csv')\n",
    "difficulty.rename(columns={'Value':'difficulty'}, inplace=True)\n",
    "hash_rate = pd.read_csv('D:/master/trade_project/bitcoin/ai-crypto-trading/datasets/bitcoin_datasets/Bitcoin Hash Rate.csv')\n",
    "hash_rate.rename(columns={'Value':'hash_rate'}, inplace=True)\n",
    "market_price = pd.read_csv('D:/master/trade_project/bitcoin/ai-crypto-trading/datasets/bitcoin_datasets/Bitcoin Market Price USD.csv')\n",
    "market_price.rename(columns={'Value':'market_price'}, inplace=True)\n",
    "miners_rev = pd.read_csv('D:/master/trade_project/bitcoin/ai-crypto-trading/datasets/bitcoin_datasets/Bitcoin Miners Revenue.csv')\n",
    "miners_rev.rename(columns={'Value':'miners_rev'}, inplace=True)\n",
    "transaction = pd.read_csv('D:/master/trade_project/bitcoin/ai-crypto-trading/datasets/bitcoin_datasets/Bitcoin Number of Transactions.csv')\n",
    "transaction.rename(columns={'Value':'transaction'}, inplace=True)\n",
    "ex_trage_vol = pd.read_csv('D:/master/trade_project/bitcoin/ai-crypto-trading/datasets/bitcoin_datasets/Bitcoin USD Exchange Trade Volume.csv')\n",
    "ex_trage_vol.rename(columns={'Value':'ex_trage_vol'}, inplace=True)\n",
    "col = [ave_block_size, difficulty, hash_rate, market_price, miners_rev, transaction, ex_trage_vol]"
   ]
  },
  {
   "cell_type": "code",
   "execution_count": 25,
   "id": "feac48a4",
   "metadata": {},
   "outputs": [
    {
     "name": "stdout",
     "output_type": "stream",
     "text": [
      "            Date  ave_block_size    difficulty     hash_rate  market_price  \\\n",
      "4889  2009-01-02        0.000272  1.000000e+00           NaN          0.00   \n",
      "4888  2009-01-03        0.000000  0.000000e+00  0.000000e+00          0.00   \n",
      "4887  2009-01-04        0.000000  0.000000e+00  0.000000e+00          0.00   \n",
      "4886  2009-01-05        0.000000  0.000000e+00  0.000000e+00          0.00   \n",
      "4885  2009-01-06        0.000000  0.000000e+00  0.000000e+00          0.00   \n",
      "...          ...             ...           ...           ...           ...   \n",
      "4     2022-05-19        1.335490  3.125110e+13  1.895271e+08      28680.97   \n",
      "3     2022-05-20        1.443017  3.125110e+13  1.988481e+08      30289.87   \n",
      "2     2022-05-21        1.071193  3.125110e+13  2.097226e+08      29159.50   \n",
      "1     2022-05-22        1.205589  3.125110e+13  1.895271e+08      29409.92   \n",
      "0     2022-05-23        1.142381  3.125110e+13  2.485601e+08      30278.94   \n",
      "\n",
      "        miners_rev  transaction  ex_trage_vol  \n",
      "4889  0.000000e+00          1.0  0.000000e+00  \n",
      "4888  0.000000e+00          0.0  0.000000e+00  \n",
      "4887  0.000000e+00          0.0  0.000000e+00  \n",
      "4886  0.000000e+00          0.0  0.000000e+00  \n",
      "4885  0.000000e+00          0.0  0.000000e+00  \n",
      "...            ...          ...           ...  \n",
      "4     2.343598e+07     262479.0  2.389268e+08  \n",
      "3     2.439603e+07     267034.0  2.431062e+08  \n",
      "2     2.548406e+07     225225.0  2.248708e+08  \n",
      "1     2.300931e+07     209047.0  5.641234e+07  \n",
      "0     3.062592e+07     265106.0  1.240325e+08  \n",
      "\n",
      "[4890 rows x 8 columns]\n"
     ]
    }
   ],
   "source": [
    "df = col[0]\n",
    "for i in range(1, len(col), 1):\n",
    "    df = pd.merge(df, col[i], on='Date', how = 'left')\n",
    "df.sort_values(by = 'Date', inplace = True)\n",
    "print(df)\n",
    "df.to_csv(\"result.csv\", index = False)"
   ]
  },
  {
   "cell_type": "code",
   "execution_count": 1,
   "id": "2dc10573",
   "metadata": {},
   "outputs": [],
   "source": [
    "import json\n",
    "import datetime\n"
   ]
  },
  {
   "cell_type": "code",
   "execution_count": 29,
   "id": "8b7ca82e",
   "metadata": {},
   "outputs": [
    {
     "name": "stdout",
     "output_type": "stream",
     "text": [
      "      index  id       Date  ave_block_size    difficulty     hash_rate  \\\n",
      "0         1   0   2014/1/1        0.168742  1.180923e+09  1.174080e+04   \n",
      "1         2   0   2014/1/2        0.189940  1.418481e+09  1.149363e+04   \n",
      "2         3   0   2014/1/3        0.196643  1.418481e+09  1.043594e+04   \n",
      "3         4   0   2014/1/4        0.159483  1.418481e+09  1.043594e+04   \n",
      "4         5   0   2014/1/5        0.199987  1.418481e+09  1.248082e+04   \n",
      "...     ...  ..        ...             ...           ...           ...   \n",
      "3060   3061   0  2022/5/19        1.335490  3.125110e+13  1.895271e+08   \n",
      "3061   3062   0  2022/5/20        1.443017  3.125110e+13  1.988481e+08   \n",
      "3062   3063   0  2022/5/21        1.071193  3.125110e+13  2.097226e+08   \n",
      "3063   3064   0  2022/5/22        1.205589  3.125110e+13  1.895271e+08   \n",
      "3064   3065   0  2022/5/23        1.142381  3.125110e+13  2.485601e+08   \n",
      "\n",
      "      market_price    miners_rev  transaction  ex_trage_vol  symbol  \n",
      "0           732.00  2.775833e+06        48424  5.801532e+06       0  \n",
      "1           806.21  3.296593e+06        63821  1.594557e+07       0  \n",
      "2           822.38  3.468549e+06        60980  1.006703e+07       0  \n",
      "3           807.39  4.043648e+06        55761  1.199633e+07       0  \n",
      "4           934.21  4.160971e+06        67597  2.685324e+07       0  \n",
      "...            ...           ...          ...           ...     ...  \n",
      "3060      28680.97  2.343598e+07       262479  2.389268e+08       0  \n",
      "3061      30289.87  2.439603e+07       267034  2.431062e+08       0  \n",
      "3062      29159.50  2.548406e+07       225225  2.248708e+08       0  \n",
      "3063      29409.92  2.300931e+07       209047  5.641234e+07       0  \n",
      "3064      30278.94  3.062592e+07       265106  1.240325e+08       0  \n",
      "\n",
      "[3065 rows x 11 columns]\n"
     ]
    }
   ],
   "source": [
    "with open('D:/master/trade_project/bitcoin/ai-crypto-trading/Language_model/NYTimes_all_embedding.json', 'r') as load_f:\n",
    "    load_dict = json.load(load_f)\n",
    "    #print(load_dict)\n",
    "res = pd.read_csv('D:/master/trade_project/bitcoin/ai-crypto-trading/datasets/merge/result.csv')\n",
    "#print(res)\n",
    "    "
   ]
  },
  {
   "cell_type": "code",
   "execution_count": 30,
   "id": "88cd9728",
   "metadata": {},
   "outputs": [
    {
     "name": "stdout",
     "output_type": "stream",
     "text": [
      "3068 768\n",
      "           Date      emb0      emb1      emb2      emb3      emb4      emb5  \\\n",
      "0      2014/1/1 -0.393835  0.033129 -0.124907 -0.024118 -0.235035 -0.047700   \n",
      "1      2014/1/2 -0.414423  0.059360 -0.183764 -0.068014 -0.224077 -0.083404   \n",
      "2      2014/1/3 -0.367464  0.116832 -0.137824 -0.070812 -0.275877 -0.055876   \n",
      "3      2014/1/4 -0.355912  0.057459 -0.191344 -0.063901 -0.240303 -0.078653   \n",
      "4      2014/1/5 -0.445675 -0.018312 -0.050795 -0.024454 -0.235557  0.028863   \n",
      "...         ...       ...       ...       ...       ...       ...       ...   \n",
      "3063  2022/5/21 -0.390374  0.030775 -0.055984 -0.031883 -0.359091 -0.056700   \n",
      "3064  2022/5/22 -0.359901  0.086705 -0.134737 -0.103927 -0.297582 -0.135092   \n",
      "3065  2022/5/23 -0.426444  0.032707 -0.160403  0.002641 -0.266945 -0.081569   \n",
      "3066  2022/5/24 -0.775737 -0.193902 -0.311762 -0.054181 -0.179977  0.081054   \n",
      "3067  2022/5/25 -0.507322 -0.095573 -0.146368 -0.024188 -0.157045 -0.010948   \n",
      "\n",
      "          emb6      emb7      emb8  ...    emb758    emb759    emb760  \\\n",
      "0     0.373906  0.501633 -0.276499  ...  0.073746 -0.020234  0.225312   \n",
      "1     0.329273  0.456433 -0.234910  ...  0.035971 -0.067072  0.210480   \n",
      "2     0.419799  0.525213 -0.281943  ...  0.043070 -0.025808  0.192561   \n",
      "3     0.345026  0.491817 -0.215761  ...  0.012280 -0.056532  0.200703   \n",
      "4     0.338220  0.468919 -0.277190  ...  0.028526  0.025483  0.358074   \n",
      "...        ...       ...       ...  ...       ...       ...       ...   \n",
      "3063  0.346277  0.417112 -0.223193  ... -0.096741 -0.017028  0.257988   \n",
      "3064  0.377892  0.506069 -0.176242  ... -0.123871  0.006130  0.175765   \n",
      "3065  0.285068  0.424490 -0.192435  ...  0.011198 -0.035946  0.174287   \n",
      "3066  0.240931  0.374339 -0.465225  ... -0.258897 -0.076917  0.278551   \n",
      "3067  0.291200  0.359402 -0.294204  ... -0.135924 -0.041900  0.152345   \n",
      "\n",
      "        emb761    emb762    emb763    emb764    emb765    emb766    emb767  \n",
      "0     0.043519  0.232634 -0.130899 -0.054599 -0.454381  0.197292  0.180897  \n",
      "1     0.039563  0.215978 -0.093591 -0.031886 -0.403496  0.190866  0.214393  \n",
      "2     0.038208  0.196921 -0.114528 -0.014951 -0.446531  0.188456  0.201631  \n",
      "3     0.045284  0.226458 -0.141467 -0.064842 -0.366906  0.216987  0.168508  \n",
      "4     0.003008  0.236921 -0.214296 -0.023709 -0.430266  0.185142  0.182660  \n",
      "...        ...       ...       ...       ...       ...       ...       ...  \n",
      "3063  0.026831  0.247462 -0.090771 -0.023287 -0.354410  0.325282  0.257144  \n",
      "3064 -0.029036  0.141995  0.010204 -0.020802 -0.397824  0.273254  0.163039  \n",
      "3065  0.107703  0.221664 -0.042573  0.011948 -0.434735  0.253473  0.250018  \n",
      "3066 -0.188830  0.129729 -0.112796  0.120229 -0.391931  0.093680  0.300957  \n",
      "3067 -0.068102  0.160573 -0.106689 -0.033926 -0.346727  0.181513  0.233699  \n",
      "\n",
      "[3068 rows x 769 columns]\n"
     ]
    }
   ],
   "source": [
    "n = len(load_dict)\n",
    "size = len(load_dict[0]['embedding'])\n",
    "print(n,size)\n",
    "#print(load_dict[0])\n",
    "date, embedding = [], [[] for _ in range(size)]\n",
    "for i in range(n):\n",
    "    row = load_dict[i]\n",
    "    date.append(datetime.datetime.strptime(row['pub_date'] , '%Y%m%d').strftime('%#Y/%#m/%#d'))\n",
    "    #date.append(datetime.datetime.strptime(row['pub_date'] , '%Y%m%d').strftime('%Y/%m/%d') )\n",
    "    #print(len(row['embedding']))\n",
    "    #print(embedding)\n",
    "    for j in range(size):\n",
    "        embedding[j].append(row['embedding'][j])\n",
    "data = {'Date':date}\n",
    "for i in range(size):\n",
    "    data['emb'+str(i)] = embedding[i]\n",
    "    #res['emb'+str(i)] = embedding[i]\n",
    "dt = pd.DataFrame(data)\n",
    "#print(dt)\n"
   ]
  },
  {
   "cell_type": "code",
   "execution_count": 31,
   "id": "6ca6262b",
   "metadata": {},
   "outputs": [
    {
     "name": "stdout",
     "output_type": "stream",
     "text": [
      "      index  id       Date  ave_block_size    difficulty     hash_rate  \\\n",
      "0         1   0   2014/1/1        0.168742  1.180923e+09  1.174080e+04   \n",
      "1         2   0   2014/1/2        0.189940  1.418481e+09  1.149363e+04   \n",
      "2         3   0   2014/1/3        0.196643  1.418481e+09  1.043594e+04   \n",
      "3         4   0   2014/1/4        0.159483  1.418481e+09  1.043594e+04   \n",
      "4         5   0   2014/1/5        0.199987  1.418481e+09  1.248082e+04   \n",
      "...     ...  ..        ...             ...           ...           ...   \n",
      "3060   3061   0  2022/5/19        1.335490  3.125110e+13  1.895271e+08   \n",
      "3061   3062   0  2022/5/20        1.443017  3.125110e+13  1.988481e+08   \n",
      "3062   3063   0  2022/5/21        1.071193  3.125110e+13  2.097226e+08   \n",
      "3063   3064   0  2022/5/22        1.205589  3.125110e+13  1.895271e+08   \n",
      "3064   3065   0  2022/5/23        1.142381  3.125110e+13  2.485601e+08   \n",
      "\n",
      "      market_price    miners_rev  transaction  ex_trage_vol  symbol  \n",
      "0           732.00  2.775833e+06        48424  5.801532e+06       0  \n",
      "1           806.21  3.296593e+06        63821  1.594557e+07       0  \n",
      "2           822.38  3.468549e+06        60980  1.006703e+07       0  \n",
      "3           807.39  4.043648e+06        55761  1.199633e+07       0  \n",
      "4           934.21  4.160971e+06        67597  2.685324e+07       0  \n",
      "...            ...           ...          ...           ...     ...  \n",
      "3060      28680.97  2.343598e+07       262479  2.389268e+08       0  \n",
      "3061      30289.87  2.439603e+07       267034  2.431062e+08       0  \n",
      "3062      29159.50  2.548406e+07       225225  2.248708e+08       0  \n",
      "3063      29409.92  2.300931e+07       209047  5.641234e+07       0  \n",
      "3064      30278.94  3.062592e+07       265106  1.240325e+08       0  \n",
      "\n",
      "[3065 rows x 11 columns]\n"
     ]
    }
   ],
   "source": [
    "#res.Date = pd.to_datetime(res.Date, format='%Y/%m/%d')\n",
    "#print(res)\n",
    "#dt.to_csv(\"Embs.csv\", index = False)\n",
    "res = res.merge(dt, on='Date', how = 'left')\n",
    "#print(res)\n",
    "res.to_csv(\"resultWithEmbs.csv\", index = False)"
   ]
  },
  {
   "cell_type": "code",
   "execution_count": null,
   "id": "32613b60",
   "metadata": {},
   "outputs": [],
   "source": []
  }
 ],
 "metadata": {
  "kernelspec": {
   "display_name": "Python 3 (ipykernel)",
   "language": "python",
   "name": "python3"
  },
  "language_info": {
   "codemirror_mode": {
    "name": "ipython",
    "version": 3
   },
   "file_extension": ".py",
   "mimetype": "text/x-python",
   "name": "python",
   "nbconvert_exporter": "python",
   "pygments_lexer": "ipython3",
   "version": "3.9.7"
  }
 },
 "nbformat": 4,
 "nbformat_minor": 5
}
