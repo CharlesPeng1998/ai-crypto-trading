{
  "nbformat": 4,
  "nbformat_minor": 0,
  "metadata": {
    "colab": {
      "name": "glove.ipynb",
      "provenance": [],
      "collapsed_sections": []
    },
    "kernelspec": {
      "name": "python3",
      "display_name": "Python 3"
    },
    "language_info": {
      "name": "python"
    }
  },
  "cells": [
    {
      "cell_type": "code",
      "execution_count": null,
      "metadata": {
        "colab": {
          "base_uri": "https://localhost:8080/"
        },
        "id": "ffjxBwXrOK-z",
        "outputId": "674d9165-61b0-4648-da98-c35f6bb0ae80"
      },
      "outputs": [
        {
          "output_type": "stream",
          "name": "stdout",
          "text": [
            "Collecting glove-python-binary\n",
            "  Downloading glove_python_binary-0.2.0-cp37-cp37m-manylinux1_x86_64.whl (948 kB)\n",
            "\u001b[K     |████████████████████████████████| 948 kB 5.3 MB/s \n",
            "\u001b[?25hRequirement already satisfied: scipy in /usr/local/lib/python3.7/dist-packages (from glove-python-binary) (1.4.1)\n",
            "Requirement already satisfied: numpy in /usr/local/lib/python3.7/dist-packages (from glove-python-binary) (1.21.6)\n",
            "Installing collected packages: glove-python-binary\n",
            "Successfully installed glove-python-binary-0.2.0\n"
          ]
        }
      ],
      "source": [
        "!pip install glove-python-binary\n"
      ]
    },
    {
      "cell_type": "code",
      "source": [
        "from google.colab import drive\n",
        "drive.mount('/content/drive')\n",
        "%cd /content/drive/MyDrive/myColab/"
      ],
      "metadata": {
        "colab": {
          "base_uri": "https://localhost:8080/"
        },
        "id": "ziEqzQiYP_vw",
        "outputId": "818fb80c-a438-4dab-9301-68ff514a2570"
      },
      "execution_count": null,
      "outputs": [
        {
          "output_type": "stream",
          "name": "stdout",
          "text": [
            "Mounted at /content/drive\n",
            "/content/drive/MyDrive/myColab\n"
          ]
        }
      ]
    },
    {
      "cell_type": "code",
      "source": [
        "!wget -P /content/drive/MyDrive/myColab/ https://cdn-lfs.huggingface.co/stanfordnlp/glove/6471382cdd837544bf3ac72497a38715e845897d265b2b424b4761832009c837?response-content-disposition=attachment%3B%20filename%3D%22glove.6B.zip%22"
      ],
      "metadata": {
        "colab": {
          "base_uri": "https://localhost:8080/"
        },
        "id": "hUfP7S0eOiKu",
        "outputId": "e51e2a18-2799-4ce6-dee5-9fc4eb525fb1"
      },
      "execution_count": null,
      "outputs": [
        {
          "output_type": "stream",
          "name": "stdout",
          "text": [
            "--2022-05-22 14:55:34--  https://cdn-lfs.huggingface.co/stanfordnlp/glove/6471382cdd837544bf3ac72497a38715e845897d265b2b424b4761832009c837?response-content-disposition=attachment%3B%20filename%3D%22glove.6B.zip%22\n",
            "Resolving cdn-lfs.huggingface.co (cdn-lfs.huggingface.co)... 108.138.94.14, 108.138.94.25, 108.138.94.122, ...\n",
            "Connecting to cdn-lfs.huggingface.co (cdn-lfs.huggingface.co)|108.138.94.14|:443... connected.\n",
            "HTTP request sent, awaiting response... 200 OK\n",
            "Length: 862182753 (822M) [application/zip]\n",
            "Saving to: ‘/content/drive/MyDrive/myColab/6471382cdd837544bf3ac72497a38715e845897d265b2b424b4761832009c837?response-content-disposition=attachment; filename=\"glove.6B.zip\".1’\n",
            "\n",
            "6471382cdd837544bf3 100%[===================>] 822.24M  40.3MB/s    in 20s     \n",
            "\n",
            "2022-05-22 14:55:54 (41.7 MB/s) - ‘/content/drive/MyDrive/myColab/6471382cdd837544bf3ac72497a38715e845897d265b2b424b4761832009c837?response-content-disposition=attachment; filename=\"glove.6B.zip\".1’ saved [862182753/862182753]\n",
            "\n"
          ]
        }
      ]
    },
    {
      "cell_type": "code",
      "source": [
        "!wget -P /content/drive/MyDrive/myColab/ http://mattmahoney.net/dc/text8.zip"
      ],
      "metadata": {
        "colab": {
          "base_uri": "https://localhost:8080/"
        },
        "id": "9HQjoIzBF1MH",
        "outputId": "68640d68-e489-4b26-89fa-68d36bf697f5"
      },
      "execution_count": null,
      "outputs": [
        {
          "output_type": "stream",
          "name": "stdout",
          "text": [
            "--2022-05-23 08:45:22--  http://mattmahoney.net/dc/text8.zip\n",
            "Resolving mattmahoney.net (mattmahoney.net)... 67.195.197.24\n",
            "Connecting to mattmahoney.net (mattmahoney.net)|67.195.197.24|:80... connected.\n",
            "HTTP request sent, awaiting response... 200 OK\n",
            "Length: 31344016 (30M) [application/zip]\n",
            "Saving to: ‘/content/drive/MyDrive/myColab/text8.zip’\n",
            "\n",
            "text8.zip           100%[===================>]  29.89M   719KB/s    in 43s     \n",
            "\n",
            "2022-05-23 08:46:07 (704 KB/s) - ‘/content/drive/MyDrive/myColab/text8.zip’ saved [31344016/31344016]\n",
            "\n"
          ]
        }
      ]
    },
    {
      "cell_type": "code",
      "source": [
        "!unzip text8.zip"
      ],
      "metadata": {
        "colab": {
          "base_uri": "https://localhost:8080/"
        },
        "id": "gQGAqTFoGQV9",
        "outputId": "49e883c1-b175-4a03-fd1f-8eb7fc35428b"
      },
      "execution_count": null,
      "outputs": [
        {
          "output_type": "stream",
          "name": "stdout",
          "text": [
            "Archive:  text8.zip\n",
            "  inflating: text8                   \n"
          ]
        }
      ]
    },
    {
      "cell_type": "code",
      "source": [
        "!unzip glove.6B.zip\n"
      ],
      "metadata": {
        "colab": {
          "base_uri": "https://localhost:8080/"
        },
        "id": "8MSRDCb7RbKd",
        "outputId": "e64dbac3-99bd-4aed-c1c4-054336a65e78"
      },
      "execution_count": null,
      "outputs": [
        {
          "output_type": "stream",
          "name": "stdout",
          "text": [
            "Archive:  glove.6B.zip\n",
            "  inflating: glove.6B.100d.txt       \n",
            "  inflating: glove.6B.200d.txt       \n",
            "  inflating: glove.6B.300d.txt       \n",
            "  inflating: glove.6B.50d.txt        \n"
          ]
        }
      ]
    },
    {
      "cell_type": "code",
      "source": [
        "import pandas as pd\n",
        "import string\n",
        "import re\n",
        "fileName = \"Glue/CoLA/dev.tsv\"\n",
        "dataset = []\n",
        "punctuation_string = string.punctuation\n",
        "with open(fileName, 'r') as fin:\n",
        "  lines = fin.readlines()\n",
        "  for line in lines:\n",
        "    line = line.strip().split('\\t')\n",
        "    line = line[3]\n",
        "    line = re.sub('[{}]'.format(punctuation_string),\"\",line)\n",
        "    line = line.split(' ')\n",
        "    dataset.append(line)"
      ],
      "metadata": {
        "colab": {
          "base_uri": "https://localhost:8080/"
        },
        "id": "3cap4iGjQyNM",
        "outputId": "1867ab5d-0934-43ed-d879-abf5987b56c6"
      },
      "execution_count": null,
      "outputs": [
        {
          "output_type": "stream",
          "name": "stdout",
          "text": [
            "!\"#$%&'()*+,-./:;<=>?@[\\]^_`{|}~\n",
            "[['The', 'sailors', 'rode', 'the', 'breeze', 'clear', 'of', 'the', 'rocks'], ['The', 'weights', 'made', 'the', 'rope', 'stretch', 'over', 'the', 'pulley'], ['The', 'mechanical', 'doll', 'wriggled', 'itself', 'loose'], ['If', 'you', 'had', 'eaten', 'more', 'you', 'would', 'want', 'less'], ['As', 'you', 'eat', 'the', 'most', 'you', 'want', 'the', 'least'], ['The', 'more', 'you', 'would', 'want', 'the', 'less', 'you', 'would', 'eat'], ['I', 'demand', 'that', 'the', 'more', 'John', 'eat', 'the', 'more', 'he', 'pays'], ['Mary', 'listens', 'to', 'the', 'Grateful', 'Dead', 'she', 'gets', 'depressed'], ['The', 'angrier', 'Mary', 'got', 'the', 'more', 'she', 'looked', 'at', 'pictures'], ['The', 'higher', 'the', 'stakes', 'the', 'lower', 'his', 'expectations', 'are'], ['The', 'more', 'Fred', 'is', 'obnoxious', 'the', 'less', 'attention', 'you', 'should', 'pay', 'to', 'him'], ['John', 'was', 'lots', 'more', 'obnoxious', 'than', 'Fred'], ['The', 'more', 'people', 'you', 'give', 'beer', 'to', 'the', 'more', 'people', 'get', 'sick'], ['The', 'more', 'does', 'Bill', 'smoke', 'the', 'more', 'Susan', 'hates', 'him'], ['The', 'more', 'pictures', 'of', 'him', 'that', 'appear', 'in', 'the', 'news', 'the', 'more', 'embarrassed', 'John', 'becomes'], ['Every', 'senator', 'seems', 'to', 'become', 'more', 'corrupt', 'as', 'he', 'talks', 'to', 'more', 'lobbyists'], ['Who', 'does', 'John', 'visit', 'Sally', 'because', 'he', 'likes'], ['Marianne', 'did', 'not', 'leave'], ['He', 'could', 'not', 'have', 'been', 'working'], ['He', 'can', 'not', 'have', 'been', 'working'], ['You', 'will', 'believe', 'Bob'], ['John', 'has', 'not', 'kissed', 'Mary'], ['I', 'said', 'that', 'never', 'in', 'my', 'life', 'had', 'I', 'seen', 'a', 'place', 'like', 'Bangor'], ['Mickey', 'looked', 'up', 'it'], ['There', 'tended', 'to', 'be', 'a', 'lot', 'of', 'discussion'], ['John', 'tried', 'to', 'be', 'a', 'good', 'boy'], ['John', 'is', 'eager'], ['We', 'want', 'John', 'to', 'win'], ['The', 'box', 'contained', 'the', 'ball', 'from', 'the', 'tree'], ['The', 'tube', 'was', 'escaped', 'by', 'gas'], ['Water', 'bubbled', 'up', 'out', 'of', 'the', 'kettle'], ['The', 'tub', 'leaked', 'water'], ['What', 'the', 'water', 'did', 'to', 'the', 'bottle', 'was', 'fill', 'it'], ['What', 'the', 'water', 'did', 'to', 'the', 'whole', 'bottle', 'was', 'fill', 'it'], ['The', 'tank', 'leaked', 'the', 'fluid', 'free'], ['John', 'lay', 'the', 'ball', 'in', 'the', 'box'], ['John', 'owns', 'the', 'book'], ['We', 'persuaded', 'Mary', 'to', 'leave', 'and', 'Sue', 'to', 'stay'], ['Most', 'people', 'probably', 'consider', 'even', 'though', 'the', 'courts', 'didnt', 'actually', 'find', 'Klaus', 'guilty', 'of', 'murder'], ['Mary', 'beautifully', 'plays', 'the', 'violin'], ['Clearly', 'John', 'probably', 'will', 'immediately', 'learn', 'French', 'perfectly'], ['Sue', 'gave', 'to', 'Bill', 'a', 'book'], ['The', 'men', 'will', 'all', 'leave'], ['John', 'went', 'home'], ['They', 'represented', 'seriously', 'to', 'the', 'dean', 'Mary', 'as', 'a', 'genuine', 'linguist'], ['Us', 'love', 'they'], ['It', 'is', 'nice', 'to', 'go', 'abroad'], ['Mary', 'intended', 'John', 'to', 'go', 'abroad'], ['I', 'remembered', 'having', 'kissed', 'Mary'], ['I', 'cant', 'believe', 'Fred', 'wont', 'either'], ['John', 'wants', 'to', 'read', 'Freds', 'story', 'and', 'I', 'also', 'want', 'to'], ['We', 'wanted', 'to', 'invite', 'someone', 'but', 'we', 'couldnt', 'decide', 'who', 'to'], ['Mary', 'will', 'read', 'Freds', 'story', 'and', 'Joe', 'will', 'read', 'Hollys'], ['Mary', 'claimed', 'that', 'eating', 'cabbage', 'Holly', 'shouldnt'], ['Mary', 'came', 'to', 'be', 'introduced', 'by', 'the', 'bartender', 'and', 'I', 'also', 'came', 'to', 'be'], ['If', 'I', 'can', 'I', 'will', 'work', 'on', 'it'], ['Joes', 'neuroses', 'bother', 'his', 'patrons', 'and', 'Sally', 'does', 'too'], ['I', 'know', 'which', 'book', 'José', 'didnt', 'read', 'for', 'class', 'and', 'which', 'book', 'Lilly', 'did', 'it', 'for', 'him'], ['This', 'is', 'the', 'book', 'which', 'Bob', 'reviewed', 'and', 'this', 'is', 'the', 'one', 'which', 'Fred', 'wont', 'do', 'it'], ['I', 'know', 'which', 'book', 'Mag', 'read', 'and', 'which', 'book', 'Bob', 'said', 'that', 'you', 'hadnt'], ['I', 'know', 'which', 'book', 'Mag', 'read', 'and', 'which', 'book', 'Bob', 'read', 'my', 'report', 'that', 'you', 'hadnt'], ['Im', 'sure', 'I', 'would', 'like', 'him', 'to', 'eat', 'fruit', 'more', 'than', 'I', 'would', 'cookies'], ['Rusty', 'talked', 'about', 'himself', 'only', 'after', 'Mary', 'did', 'talk', 'about', 'him'], ['Fred', 'talked', 'about', 'everything', 'before', 'Rusty', 'did', 'talk', 'about', 'something'], ['John', 'often', 'meets', 'Mary'], ['The', 'problem', 'perceives', 'easily'], ['A', 'hundred', 'men', 'surrounded', 'the', 'fort'], ['We', 'elected', 'me'], ['Which', 'report', 'that', 'John', 'was', 'incompetent', 'did', 'he', 'submit'], ['Mary', 'has', 'always', 'preferred', 'lemons', 'to', 'limes'], ['He', 'let', 'the', 'cats', 'which', 'were', 'whining', 'out'], ['What', 'did', 'Bill', 'buy'], ['Mary', 'saw', 'the', 'boy', 'walking', 'toward', 'the', 'railroad', 'station'], ['A', 'proof', 'that', 'the', 'claim', 'had', 'been', 'made', 'was', 'giver', 'that', 'John', 'had', 'lied'], ['He', 'attributed', 'to', 'a', 'short', 'circuit', 'which', 'was', 'caused', 'by', 'an', 'overloaded', 'transducer', 'the', 'fire', 'which', 'destroyed', 'most', 'of', 'my', 'factory'], ['The', 'mayor', 'regarded', 'as', 'being', 'absurd', 'the', 'proposal', 'to', 'build', 'a', 'sidewalk', 'from', 'Dartmouth', 'to', 'Smith'], ['I', 'want', 'that', 'Bill', 'left', 'to', 'remain', 'a', 'secret'], ['I', 'know', 'a', 'man', 'who', 'Tom', 'drives', 'as', 'drives'], ['Drowning', 'cats', 'which', 'is', 'against', 'the', 'law', 'are', 'hard', 'to', 'rescue'], ['Muriel', 'said', 'nothing', 'else', 'than', 'that', 'she', 'had', 'been', 'insulted'], ['Himself', 'is', 'understood', 'by', 'Rutherford'], ['I', 'feel', 'that', 'Arch', 'will', 'show', 'up'], ['The', 'proof', 'this', 'set', 'is', 'recursive', 'is', 'difficult'], ['The', 'madrigals', 'which', 'Henry', 'plays', 'the', 'lute', 'and', 'sings', 'sound', 'lousy'], ['Tom', 'picked', 'these', 'grapes', 'and', 'I', 'washed', 'some', 'turnips', 'and', 'Suzie', 'will', 'prepare', 'these', 'grapes'], ['Where', 'did', 'you', 'go', 'and', 'who', 'ate', 'what'], ['Which', 'boys', 'did', 'we', 'elect', 'guardians', 'employer', 'president'], ['How', 'sane', 'is', 'Peter'], ['I', 'live', 'at', 'the', 'place', 'where', 'Route', '150', 'crosses', 'the', 'River', 'and', 'my', 'dad', 'lives', 'at', 'the', 'place', 'where', 'Route', '150', 'crosses', 'the', 'Hudson', 'River', 'too'], ['I', 'live', 'at', 'the', 'place', 'where', 'Route', '150', 'crosses', 'the', 'Hudson', 'River', 'and', 'my', 'dad', 'lives', 'at', 'it', 'too'], ['Who', 'is', 'she', 'trying', 'to', 'make', 'up', 'to', 'now'], ['Wind', 'was', 'gotten', 'of', 'a', 'plot', 'to', 'negotiate', 'an', 'honorable', 'end', 'to', 'the', 'war', 'in', 'Vietnam'], ['Mike', 'talked', 'about', 'politics', 'yesterday', 'to', 'my', 'friends'], ['It', 'was', 'expected', 'by', 'the', 'reporters', 'that', 'the', 'principal', 'would', 'fire', 'some', 'teacher'], ['Which', 'hat', 'did', 'Mike', 'quip', 'that', 'she', 'never', 'wore'], ['Which', 'girl', 'did', 'Mike', 'quip', 'never', 'wore', 'this', 'hat'], ['We', 'donated', 'wire', 'for', 'the', 'convicts', 'to', 'build', 'cages', 'with'], ['I', 'wont', 'have', 'some', 'money'], ['Do', 'you', 'believe', 'the', 'claim', 'that', 'somebody', 'was', 'looking', 'for', 'something'], ['I', 'wont', 'ask', 'you', 'to', 'believe', 'that', 'he', 'tried', 'to', 'force', 'me', 'to', 'give', 'her', 'any', 'money'], ['That', 'Sam', 'sometimes', 'didnt', 'sleep', 'must', 'have', 'pleased', 'somebody'], ['I', 'talked', 'to', 'Winston', 'about', 'himself'], ['That', 'the', 'fuzz', 'wanted', 'him', 'worried', 'John', 'but', 'that', 'the', 'fuzz', 'wanted', 'her', 'didnt', 'worry', 'Mary'], ['Ill', 'work', 'on', 'it', 'if', 'Sam', 'will', 'be', 'working', 'on', 'it'], ['Ill', 'work', 'on', 'it', 'if', 'I', 'can'], ['Heres', 'a', 'knife', 'with', 'which', 'for', 'you', 'to', 'cut', 'up', 'the', 'onions'], ['Fluffy', 'is', 'sick', 'which', 'not', 'everybody', 'knows'], ['Maxwell', 'is', 'quite', 'a', 'doctor'], ['The', 'younger', 'woman', 'might', 'have', 'been', 'tall', 'and', 'and', 'the', 'older', 'one', 'definitely', 'was', 'blond'], ['Sally', 'is', 'tall', 'and', 'may', 'be', 'blond', 'and', 'Sheila', 'is', 'short', 'and', 'definitely', 'is', 'blond'], ['I', 'have', 'to', 'try', 'to', 'finish', 'grading', 'some', 'papers'], ['The', 'socks', 'are', 'ready', 'for', 'for', 'you', 'to', 'put', 'on', 'to', 'be', 'planned'], ['It', 'is', 'easy', 'to', 'play', 'sonatas', 'on', 'this', 'violin'], ['This', 'violin', 'is', 'difficult', 'to', 'play', 'sonatas', 'on'], ['My', 'mother', 'is', 'easy', 'to', 'please', 'my', 'father', 'and'], ['Poor', 'Bill', 'it', 'had', 'started', 'to', 'rain', 'and', 'he', 'had', 'no', 'umbrella'], ['That', 'the', 'cops', 'spoke', 'to', 'the', 'janitor', 'about', 'it', 'yesterday', 'is', 'terrible', 'that', 'robbery'], ['Every', 'student', 'and', 'he', 'wears', 'socks', 'is', 'a', 'swinger'], ['That', 'girl', 'was', 'given', 'my', 'binoculars', 'by', 'him'], ['Bill', 'didnt', 'allege', 'that', 'Roger', 'had', 'eaten', 'anything'], ['Nobody', 'who', 'hates', 'to', 'eat', 'anything', 'should', 'work', 'in', 'a', 'delicatessen'], ['Everybody', 'around', 'here', 'who', 'ever', 'buys', 'anything', 'on', 'credit', 'talks', 'in', 'his', 'sleep'], ['I', 'cant', 'remember', 'the', 'name', 'of', 'somebody', 'who', 'had', 'misgivings'], ['No', 'writer', 'and', 'no', 'playwright', 'meets', 'in', 'Vienna'], ['No', 'writer', 'nor', 'any', 'playwright', 'meets', 'in', 'Vienna'], ['That', 'you', 'will', 'marry', 'any', 'student', 'is', 'not', 'certain'], ['Felicia', 'kicked', 'the', 'ball', 'off', 'the', 'bench'], ['I', 'sent', 'the', 'package', 'halfway', 'around', 'the', 'world'], ['Sam', 'gave', 'the', 'ball', 'out', 'of', 'the', 'basket'], ['Sam', 'offered', 'the', 'ball', 'out', 'of', 'the', 'basket'], ['Park', 'Square', 'has', 'a', 'festive', 'air'], ['The', 'worker', 'will', 'have', 'a', 'job'], ['No', 'one', 'can', 'forgive', 'that', 'comment', 'to', 'you'], ['We', 'launched', 'the', 'rocket', 'to', 'the', 'moon', 'but', 'it', 'blew', 'up', 'before', 'it', 'got', 'there'], ['Sarah', 'promised', 'Catherine', 'her', 'old', 'car', 'but', 'then', 'gave', 'it', 'to', 'her', 'son', 'instead'], ['I', 'lent', 'the', 'book', 'partway', 'to', 'Tony'], ['The', 'farmer', 'loaded', 'the', 'cart', 'with', 'apples'], ['The', 'farmer', 'dumped', 'the', 'cart', 'with', 'apples'], ['Martha', 'carved', 'the', 'baby', 'a', 'toy', 'out', 'of', 'wood'], ['The', 'bread', 'cuts', 'easily'], ['Janet', 'broke', 'Bill', 'on', 'the', 'finger'], ['Janet', 'broke', 'the', 'cup'], ['The', 'visitor', 'rang', 'the', 'bell'], ['We', 'pulled', 'free'], ['That', 'movie', 'always', 'shocks', 'people'], ['That', 'movie', 'always', 'shocks'], ['Sharon', 'came', 'the', 'room'], ['Bill', 'sent', 'a', 'package', 'to', 'Tom'], ['That', 'acorn', 'will', 'grow', 'into', 'an', 'oak', 'tree'], ['He', 'turned', 'into', 'a', 'frog'], ['I', 'mixed', 'the', 'sugar', 'into', 'the', 'butter'], ['Brian', 'threw', 'the', 'fence', 'with', 'the', 'stick'], ['Mira', 'condemned', 'Terry', 'for', 'the', 'accident'], ['We', 'investigated', 'the', 'area', 'for', 'bombs'], ['I', 'sensed', 'his', 'eagerness'], ['They', 'praised', 'the', 'dedication', 'in', 'the', 'volunteers'], ['The', 'earth', 'was', 'believed', 'to', 'be', 'round'], ['Sarah', 'smiled', 'a', 'charming', 'smile'], ['Sandra', 'beamed', 'a', 'cheerful', 'welcome'], ['Youve', 'really', 'lived', 'it', 'up'], ['Paperback', 'books', 'lift', 'onto', 'the', 'table', 'easily'], ['The', 'books', 'lifted', 'onto', 'the', 'table'], ['Jessica', 'loaded', 'boxes', 'under', 'the', 'wagon'], ['Jessica', 'loaded', 'boxes', 'on', 'the', 'wagon'], ['Jessica', 'crammed', 'boxes', 'at', 'the', 'truck'], ['Lora', 'buttered', 'at', 'the', 'toast'], ['Carla', 'shoveled', 'the', 'walk'], ['Nora', 'sent', 'the', 'book'], ['Nora', 'sent', 'Peter', 'the', 'book'], ['Carla', 'slid', 'the', 'book'], ['Carla', 'slid', 'at', 'the', 'book'], ['Amanda', 'carried', 'the', 'package', 'to', 'Pamela'], ['Packages', 'drive', 'easily', 'to', 'New', 'York'], ['The', 'chair', 'pushed'], ['We', 'offered', 'a', 'job', 'to', 'her'], ['A', 'job', 'offered'], ['Brown', 'presented', 'a', 'plaque', 'to', 'Jones'], ['Carmen', 'bought', 'Mary', 'a', 'dress'], ['Carmen', 'obtained', 'the', 'spare', 'part', 'at', 'the', 'hardware', 'store'], ['Michelle', 'kept', 'the', 'desk', 'with', 'the', 'papers'], ['Frances', 'hid', 'the', 'presents', 'in', 'the', 'drawer'], ['The', 'needle', 'poked', 'the', 'cloth'], ['Carrie', 'touched', 'that', 'cat'], ['Herman', 'whipped', 'the', 'sugar', 'and', 'the', 'cream'], ['Linda', 'taped', 'the', 'picture', 'to', 'the', 'wall'], ['Linda', 'taped', 'the', 'picture', 'onto', 'the', 'wall'], ['The', 'child', 'and', 'her', 'mother', 'clung', 'together'], ['This', 'flyer', 'and', 'that', 'flyer', 'differ'], ['This', 'flyer', 'and', 'that', 'flyer', 'differ', 'apart'], ['The', 'jeweller', 'scribbled', 'the', 'contract', 'with', 'his', 'name'], ['The', 'gardener', 'grew', 'that', 'acorn', 'into', 'an', 'oak', 'tree'], ['I', 'shaped', 'a', 'loaf'], ['The', 'children', 'amused'], ['Susan', 'whispered', 'the', 'news'], ['Susan', 'whispered', 'at', 'Rachel'], ['Ellen', 'said', 'that', 'melons', 'were', 'selling', 'well'], ['Ellen', 'said', 'about', 'the', 'present', 'conditions'], ['Ellen', 'warned', 'Helen', 'against', 'skating', 'on', 'thin', 'ice'], ['Cynthia', 'nibbled', 'on', 'the', 'carrot', ''], ['Cynthia', 'chewed'], ['Paul', 'laughed', 'at', 'Mary'], ['Linda', 'winked', 'her', 'lip'], ['My', 'heart', 'is', 'pounding', 'me'], ['Sharon', 'fainted', 'from', 'hunger'], ['The', 'witch', 'poisoned', 'the', 'children'], ['A', 'grandfather', 'clock', 'ticked', 'in', 'the', 'hallway'], ['I', 'squeaked', 'the', 'door'], ['Over', 'the', 'fire', 'there', 'bubbled', 'a', 'fragrant', 'stew'], ['Soaring', 'temperatures', 'are', 'predicted', 'for', 'this', 'weekend'], ['The', 'fort', 'fluttered', 'with', 'many', 'flags'], ['The', 'voices', 'echoed', 'in', 'the', 'hall'], ['The', 'stream', 'twists', 'through', 'the', 'valley'], ['There', 'presented', 'itself', 'a', 'wonderful', 'opportunity', 'yesterday'], ['A', 'wonderful', 'opportunity', 'presented', 'itself', 'to', 'him', 'yesterday'], ['Out', 'of', 'the', 'box', 'jumped', 'a', 'little', 'white', 'rabbit'], ['Penny', 'skated', 'around', 'the', 'rink'], ['Jackie', 'accompanied', 'Rose'], ['many', 'information', 'was', 'provided'], ['John', 'offers', 'many', 'advice'], ['The', 'cake', 'that', 'Jones', 'got', 'was', 'more', 'delicious', 'than', 'the', 'one', 'that', 'Smith', 'got'], ['We', 'recommend', 'to', 'eat', 'less', 'cake', 'and', 'pastry'], ['I', 'saw', 'that', 'gas', 'can', 'explode'], ['He', 'washed', 'her'], ['Wash', 'you'], ['They', 'have', 'no', 'in'], ['Some', 'my', 'jobs', 'are', 'in', 'jeopardy'], ['It', 'was', 'the', 'policeman', 'met', 'that', 'several', 'young', 'students', 'in', 'the', 'park', 'last', 'night'], ['did', 'the', 'policeman', 'meet', 'in', 'the', 'park'], ['John', 'put', 'old', 'books', 'in', 'the', 'box'], ['The', 'monkeys', 'proud', 'of', 'their', 'leader'], ['John', 'sounded', 'very'], ['I', 'dont', 'know', 'if', 'I', 'should', 'agree'], ['John', 'bought', 'a', 'book', 'on', 'the', 'table'], ['John', 'called', 'the', 'president', 'a', 'fool'], ['I', 'forgot', 'how', 'good', 'beer', 'tastes'], ['This', 'teacher', 'is', 'a', 'genius'], ['A', 'good', 'friend', 'is', 'remained', 'to', 'me', 'by', 'him'], ['John', 'ate', 'his', 'noodle', 'quietly'], ['A', 'smith', 'hammered', 'the', 'metal'], ['Sandy', 'removed', 'her', 'ballet', 'shoes'], ['This', 'week', 'will', 'be', 'a', 'difficult', 'one', 'for', 'us'], ['Benny', 'worked', 'in', 'a', 'shoe', 'factory', 'when', 'he', 'was', 'a', 'student'], ['Everyone', 'hoped', 'that', 'she', 'would', 'sing'], ['This', 'proved', 'a', 'decisive', 'factor'], ['The', 'crocodile', 'devoured', 'the', 'doughnut'], ['John', 'is', 'afraid', 'of', 'Bill'], ['John', 'put', 'under', 'the', 'bathtub'], ['John', 'placed', 'Kim', 'behind', 'the', 'garage'], ['Kim', 'depends', 'for', 'Sandy'], ['John', 'put', 'the', 'book', 'in', 'the', 'box'], ['John', 'taught', 'English', 'Syntax', 'to', 'new', 'students'], ['John', 'regards', 'Bill', 'as', 'a', 'good', 'friend'], ['Kim', 'put', 'in', 'the', 'box'], ['The', 'chickens', 'seem', 'fond', 'of', 'the', 'farmer'], ['The', 'rules', 'require', 'that', 'the', 'executives', 'be', 'polite'], ['That', 'Fred', 'was', 'unpopular', 'nominated', 'Bill'], ['They', 'were', 'taking', 'a', 'hard', 'look', 'at', 'possible', 'FTA'], ['John', 'paid', 'me', 'against', 'the', 'book'], ['The', 'committee', 'will', 'study', 'the', 'feasibility', 'of', 'setting', 'up', 'a', 'national', 'computer', 'network'], ['We', 'made', 'them', 'be', 'rude'], ['After', 'reading', 'the', 'pamphlet', 'Judy', 'threw', 'it', 'into', 'the', 'garbage', 'can'], ['Students', 'studying', 'English', 'reads', 'Conrads', 'Heart', 'of', 'Darkness', 'while', 'at', 'university'], ['I', 'read', 'some', 'of', 'the', 'book'], ['Most', 'of', 'the', 'fruit', 'is', 'rotten'], ['Neither', 'of', 'students', 'failed'], ['I', 'drank', 'some', 'of', 'water'], ['It', 'is', 'a', 'golden', 'hair'], ['The', 'boy', 'in', 'the', 'doorway', 'waved', 'to', 'his', 'father'], ['That', 'dog', 'is', 'so', 'ferocious', 'it', 'even', 'tried', 'to', 'bite', 'itself'], ['He', 'washed', 'yourself'], ['John', 'is', 'easy', 'to', 'please', 'Kim'], ['There', 'seemed', 'to', 'be', 'intelligent'], ['John', 'tried', 'to', 'please', 'Stephen'], ['We', 'believed', 'John', 'to', 'be', 'a', 'fountain', 'in', 'the', 'park'], ['It', 'tries', 'to', 'leave', 'the', 'country'], ['John', 'tries', 'to', 'leave', 'the', 'country'], ['Under', 'the', 'bed', 'seems', 'to', 'be', 'a', 'fun', 'place', 'to', 'hide'], ['There', 'is', 'believed', 'to', 'be', 'sheep', 'in', 'the', 'park'], ['I', 'hope', 'to', 'would', 'study', 'in', 'France'], ['John', 'can', 'kick', 'the', 'ball'], ['John', 'will', 'rain', 'tomorrow'], ['We', 'expect', 'there', 'to', 'will', 'rain'], ['John', 'was', 'found', 'in', 'the', 'office'], ['Did', 'the', 'child', 'be', 'in', 'the', 'school'], ['It', 'did', 'not', 'rain'], ['John', 'wants', 'not', 'to', 'leave', 'the', 'town'], ['Mary', 'likes', 'to', 'tour', 'art', 'galleries', 'but', 'Bill', 'hates', 'to'], ['They', 'neednt', 'take', 'this', 'exam'], ['Ann', 'may', 'spend', 'her', 'vacation', 'in', 'Italy'], ['They', 'love', 'to', 'play', 'golf', 'but', 'I', 'do', 'not'], ['George', 'has', 'spent', 'a', 'lot', 'of', 'money', 'hasnt', 'he'], ['As', 'a', 'statesman', 'scarcely', 'could', 'he', 'do', 'anything', 'worth', 'mentioning'], ['We', 'never', 'found', 'any', 'of', 'the', 'unicorns'], ['One', 'of', 'Koreas', 'most', 'famous', 'poets', 'wrote', 'these', 'lines'], ['Somebody', 'apparently', 'struck', 'the', 'unidentified', 'victim', 'during', 'the', 'early', 'morning', 'hours'], ['The', 'car', 'was', 'driven'], ['Ricky', 'can', 'be', 'relied', 'on'], ['The', 'bed', 'was', 'slept', 'in'], ['A', 'pound', 'was', 'weighed', 'by', 'the', 'book'], ['Who', 'do', 'you', 'think', 'Tom', 'saw'], ['he', 'had', 'spent', 'five', 'thousand', 'dollars'], ['Fed', 'knows', 'which', 'politician', 'her', 'to', 'vote', 'for'], ['How', 'did', 'you', 'guess', 'that', 'he', 'fixed', 'the', 'computer'], ['The', 'committee', 'knows', 'whose', 'efforts', 'to', 'achieve', 'peace', 'the', 'world', 'should', 'honor'], ['Which', 'house', 'does', 'your', 'friend', 'live'], ['the', 'baker', 'from', 'whom', 'I', 'bought', 'these', 'bagels', 'left'], ['I', 'found', 'the', 'place', 'where', 'we', 'can', 'relax'], ['Jack', 'is', 'the', 'person', 'with', 'whom', 'Jenny', 'fell', 'in', 'love', 'with'], ['There', 'is', 'a', 'bench', 'to', 'sit', 'on'], ['I', 'met', 'the', 'man', 'who', 'grows', 'peaches'], ['Which', 'topic', 'did', 'you', 'choose', 'without', 'getting', 'his', 'approval'], ['Which', 'topic', 'did', 'you', 'get', 'bored', 'because', 'Mary', 'talked', 'about'], ['That', 'is', 'the', 'reason', 'why', 'he', 'resigned'], ['It', 'bothers', 'me', 'that', 'John', 'coughs'], ['To', 'please', 'John', 'is', 'easy'], ['Kim', 'is', 'eager', 'to', 'please', 'Tom'], ['That', 'we', 'invaded', 'Iraq', 'really', 'bites'], ['It', 'annoys', 'me', 'that', 'Fido', 'barks'], ['Who', 'achieved', 'the', 'best', 'result', 'was', 'Angela'], ['It', 'was', 'the', 'peasant', 'girl', 'who', 'got', 'it'], ['That', 'kind', 'of', 'person', 'is', 'hard', 'to', 'find', 'anyone', 'to', 'look', 'after'], ['A', 'sick', 'owl', 'doesnt', 'hunt', 'mice'], ['Each', 'candidate', 'who', 'has', 'interest', 'in', 'semantics', 'will', 'be', 'admitted', 'to', 'the', 'department'], ['Each', 'author', 'whose', 'contribution', 'is', 'written', 'in', 'any', 'language', 'other', 'than', 'English', 'will', 'provide', 'a', 'summary', 'in', 'English'], ['Im', 'sure', 'we', 'even', 'got', 'these', 'tickets'], ['Im', 'even', 'sure', 'we', 'got', 'these', 'tickets'], ['Its', 'not', 'because', 'I', 'have', 'any', 'sympathy', 'for', 'urban', 'guerillas', 'that', 'I', 'helped', 'him'], ['It', 'isnt', 'because', 'Sue', 'said', 'anything', 'bad', 'about', 'me', 'that', 'Im', 'angry'], ['That', 'he', 'was', 'hungry', 'John', 'whined'], ['1', 'gave', 'Mary', 'after', 'the', 'party', 'a', 'book'], ['Because', 'shes', 'so', 'pleasant', 'as', 'for', 'Mary', 'I', 'really', 'like', 'her'], ['Though', 'he', 'may', 'hate', 'those', 'that', 'criticize', 'Carter', 'it', 'doesnt', 'matter'], ['With', 'no', 'job', 'would', 'John', 'be', 'happy'], ['I', 'have', 'much', 'of', 'the', 'manuscript', 'left', 'to', 'type'], ['Hes', 'a', 'more', 'reliable', 'man'], ['Any', 'trouble', 'is', 'what', 'I', 'dont', 'want'], ['They', 'may', 'grow', 'as', 'high', 'as', 'bamboo'], ['Some', 'of', 'them', 'made', 'as', 'many', 'errors', 'as', '20'], ['Sally', 'kissed', 'himself'], ['Drew', 'believes', 'I', 'think', 'Rosie', 'loves', 'magazine', 'ads'], ['Dave', 'Dan', 'Erin', 'Jaime', 'and', 'Alina', 'left'], ['Hopefully', 'well', 'make', 'it', 'through', 'the', 'winter', 'without', 'snow'], ['Blue', 'leather', 'shows', 'herself', 'that', 'Betsy', 'is', 'pretty'], ['Gwen', 'hit', 'the', 'baseball'], ['I', 'hit', 'that', 'you', 'knew', 'the', 'answer'], ['Ive', 'lost', 'my', 'wallet', 'or', 'Ive', 'lost', 'my', 'mind'], ['It', 'was', 'a', 'brand', 'new', 'car', 'that', 'he', 'bought'], ['He', 'likes', 'cookies', 'and', 'he', 'hates', 'crumb', 'cake'], ['They', 'chased', 'the', 'man', 'with', 'the', 'car'], ['I', 'didnt', 'have', 'a', 'red', 'cent'], ['the', 'book', 'of', 'poems', 'and', 'from', 'Blackwell', 'takes', 'a', 'very', 'long', 'time', 'to', 'read'], ['the', 'one', 'with', 'a', 'red', 'cover', 'takes', 'a', 'very', 'long', 'time', 'to', 'read'], ['John', 'has', 'a', 'fear', 'of', 'dogs'], ['The', 'buildings', 'the', 'roof', 'is', 'leaking'], ['the', 'panthers', 'the', 'coat', 'is', 'dark', 'black'], ['Colin', 'asked', 'if', 'they', 'could', 'get', 'a', 'mortgage'], ['The', 'man', 'I', 'saw', 'get', 'into', 'the', 'cab', 'robbed', 'the', 'bank'], ['I', 'know', 'you', 'eat', 'asparagus'], ['Johns', 'drum', 'will', 'always', 'bother', 'me'], ['An', 'evil', 'thought', 'struck', 'Dave'], ['In', 'the', 'classroom', 'John', 'put', 'the', 'book', 'on', 'the', 'table'], ['Phillip', 'gave', 'the', 'medal', 'to', 'the', 'soldier'], ['Heidi', 'thinks', 'that', 'Andy', 'to', 'eat', 'salmon', 'flavored', 'candy', 'bars'], ['Heidi', 'thinks', 'that', 'Andy', 'should', 'eat', 'salmon', 'flavored', 'candy', 'bars'], ['He', 'danced'], ['Did', 'Calvin', 'his', 'homework'], ['Sylvia', 'was', 'slapping', 'Jeff', 'upside', 'the', 'head', 'in', 'martial', 'arts', 'class'], ['If', 'I', 'am', 'a', 'rich', 'man', 'Id', 'buy', 'a', 'diamond', 'ring'], ['If', 'he', 'were', 'a', 'rich', 'man', 'hed', 'buy', 'a', 'diamond', 'ring'], ['John', 'is', 'likely', 'to', 'leave'], ['The', 'manager', 'laughed'], ['Was', 'sunk'], ['Who', 'did', 'you', 'think', 'kissed', 'the', 'gorilla'], ['Have', 'you', 'seen', 'my', 'model', 'airplane', 'collection'], ['It', 'seems', 'that', 'Lucy', 'was', 'mugged'], ['I', 'ate', 'a', 'salad', 'that', 'was', 'filled', 'with', 'lima', 'beans'], ['There', 'were', 'four', 'men', 'arriving', 'at', 'the', 'station', 'when', 'I', 'pulled', 'up'], ['Jean', 'is', 'reluctant', 'to', 'dance'], ['I', 'want', 'her', 'to', 'dance'], ['Jean', 'persuaded', 'Robert'], ['Jean', 'wants', 'Bill', 'to', 'do', 'the', 'Macarena'], ['The', 'children', 'admire', 'their', 'mother'], ['Who', 'has', 'Peter', 'talked', 'with'], ['Heidi', 'likes', 'her', 'violin'], ['John', 'thinks', 'that', 'Mary', 'loves', 'himself'], ['Which', 'pictures', 'of', 'himself', 'does', 'John', 'like'], ['Any', 'owl', 'hunts', 'mice'], ['Any', 'man', 'didnt', 'eat', 'dinner'], ['A', 'pilot', 'could', 'be', 'flying', 'this', 'plane'], ['Everybody', 'who', 'attended', 'last', 'weeks', 'huge', 'rally', 'whoever', 'they', 'were', 'signed', 'the', 'petition'], ['Anybody', 'who', 'attended', 'last', 'weeks', 'huge', 'rally', 'signed', 'the', 'petition'], ['Any', 'tiger', 'has', 'orange', 'fur', 'marked', 'with', 'black', 'stripes'], ['Any', 'albino', 'tiger', 'has', 'orange', 'fur', 'marked', 'with', 'black', 'stripes'], ['You', 'must', 'pick', 'any', 'flower', 'you', 'see'], ['Any', 'pilot', 'on', 'duty', 'today', 'could', 'be', 'flying', 'this', 'plane'], ['You', 'may', 'pick', 'every', 'flower', 'but', 'leave', 'a', 'few', 'for', 'Mary'], ['The', 'Dodgers', 'beat', 'the', 'Red', 'Sox', 'and', 'were', 'beaten', 'by', 'the', 'Giants'], ['In', 'which', 'car', 'was', 'the', 'man', 'seen'], ['The', 'man', 'who', 'Mary', 'loves', 'and', 'Sally', 'hates', 'computed', 'my', 'tax'], ['The', 'kennel', 'which', 'Mary', 'made', 'and', 'Fido', 'sleeps', 'has', 'been', 'stolen'], ['Tom', 'said', 'he', 'would', 'and', 'Bill', 'actually', 'did', 'eat', 'a', 'raw', 'eggplant'], ['The', 'wealthy', 'young', 'man', 'bought', 'that', 'piano', 'for', 'his', 'secret', 'fiancée'], ['The', 'dog', 'stole', 'the', 'turkey'], ['a', 'tall', 'building'], ['This', 'building', 'is', 'tall'], ['I', 'like', 'the', 'book', 'which', 'you', 'gave', 'me'], ['Captain', 'Wentworth', 'wrote', 'a', 'letter', 'to', 'Anne', 'Elliott'], ['She', 'asked', 'was', 'Alison', 'coming', 'to', 'the', 'party'], ['They', 'realised', 'that', 'never', 'had', 'Sir', 'Thomas', 'been', 'so', 'offended'], ['Fanny', 'regretted', 'having', 'to', 'talk', 'to', 'Aunt', 'Norris'], ['Knowing', 'the', 'country', 'well', 'he', 'took', 'a', 'short', 'cut'], ['He', 'left', 'the', 'train', 'with', 'somebody', 'elses', 'wallet', 'in', 'his', 'pocket'], ['Magnus', 'went', 'to', 'Ireland'], ['Who', 'did', 'John', 'send', 'the', 'book'], ['The', 'idea', 'dismayed', 'the', 'Prime', 'Minister', 'that', 'the', 'Dome', 'was', 'dull'], ['Came', 'right', 'in', 'he', 'did', 'without', 'so', 'much', 'as', 'a', 'knock'], ['Harriet', 'admired', 'Mr', 'Knightley'], ['The', 'book', 'is', 'boring'], ['Ethel', 'wishes', 'to', 'ask', 'you', 'some', 'awkward', 'questions'], ['Emma', 'made', 'Harriet', 'some', 'food'], ['The', 'window', 'was', 'broken', 'with', 'a', 'hammer'], ['The', 'fugitive', 'lay', 'motionless', 'in', 'order', 'to', 'avoid', 'discovery'], ['The', 'guard', 'marched', 'the', 'prisoners', 'round', 'the', 'yard'], ['Frank', 'Churchill', 'crossed', 'the', 'street'], ['Emma', 'and', 'Harriet', 'were', 'attacked', 'yesterday'], ['Fiona', 'might', 'be', 'here', 'by', '5', 'oclock'], ['I', 'am', 'both', 'expecting', 'to', 'get', 'the', 'job', 'and', 'of', 'the', 'opinion', 'that', 'it', 'is', 'a', 'desirable', 'one'], ['Pat', 'was', 'awarded', 'the', 'Golden', 'Fleece', 'Award', 'and', 'very', 'upset', 'about', 'it'], ['Kim', 'alienated', 'cats', 'and', 'beating', 'his', 'dog'], ['They', 'knew', 'that', 'pictures', 'of', 'each', 'other', 'would', 'be', 'on', 'sale'], ['Which', 'article', 'did', 'Terry', 'file', 'papers', 'without', 'reading'], ['I', 'want', 'to', 'try', 'and', 'buy', 'some', 'whiskey'], ['She', 'goes', 'and', 'buying', 'some', 'whiskey'], ['Kim', 'and', 'Terry', 'is', 'happy'], ['Kim', 'gave', 'a', 'dollar', 'to', 'Bobbie', 'and', 'a', 'dime', 'to', 'Jean'], ['This', 'girl', 'in', 'the', 'red', 'coat', 'will', 'put', 'a', 'picture', 'of', 'Bill', 'in', 'the', 'mailbox', 'and', 'on', 'your', 'desk', 'before', 'tomorrow'], ['Put', 'a', 'picture', 'of', 'Bill', 'on', 'your', 'desk', 'before', 'tomorrow', 'this', 'girl', 'in', 'the', 'red', 'coat', 'will', 'put', 'a', 'picture', 'of', 'Bill', 'on', 'your', 'desk', 'before', 'tomorrow'], ['Picture', 'of', 'Bill', 'this', 'girl', 'in', 'the', 'red', 'coat', 'will', 'put', 'a', 'picture', 'of', 'Bill', 'on', 'your', 'desk', 'before', 'tomorrow'], ['Ann', 'bought', 'a', 'first', 'edition', 'of', 'Richard', 'III', 'for', '1000'], ['John', 'became', 'deadly', 'afraid', 'of', 'flying'], ['What', 'John', 'promised', 'is', 'to', 'be', 'gentle'], ['Henri', 'wants', 'to', 'buy', 'which', 'books', 'about', 'cooking'], ['I', 'will', 'fix', 'the', 'computer', 'for', 'Carol'], ['Smith', 'loaned', 'a', 'valuable', 'collection', 'of', 'manuscripts', 'to', 'the', 'library'], ['The', 'paper', 'is', 'cut', 'by', 'Mary'], ['It', 'was', 'from', 'six', 'to', 'nine', 'or', 'it', 'took', 'place', 'from', 'six', 'to', 'nine'], ['Suddenly', 'there', 'arrived', 'two', 'inspectors', 'from', 'the', 'INS'], ['The', 'soup', 'cooks', 'thickens'], ['I', 'gave', 'money', 'to', 'the', 'charity'], ['John', 'asked'], ['I', 'saw', 'even', 'the', 'student'], ['John', 'whispered', 'Mary', 'left'], ['Mary', 'wonders', 'that', 'Bill', 'will', 'come'], ['Sophie', 'will', 'theater'], ['John', 'finished', 'the', 'cake', 'and', 'drank', 'the', 'lemonade'], ['Herself', 'likes', 'Marys', 'mother'], ['Each', 'of', 'the', 'boys', 'fought', 'with', 'some', 'of', 'the', 'other', 'boys'], ['Johns', 'mother', 'likes', 'himself'], ['Mary', 'revealed', 'himself', 'to', 'John'], ['Mary', 'believes', 'that', 'Bill', 'saw', 'himself'], ['John', 'heard', 'that', 'they', 'criticized', 'themselves'], ['Mary', 'thinks', 'that', 'she', 'is', 'smart'], ['Henry', 'found', 'that', 'Bill', 'is', 'sad'], ['John', 'considers', 'himself', 'proud', 'of', 'Mary'], ['You', 'should', 'sit', 'before', 'there'], ['There', 'is', 'a', 'nurse', 'available'], ['Everyone', 'hopes', 'everyone', 'to', 'sleep'], ['Everyone', 'hopes', 'that', 'he', 'will', 'sleep'], ['Only', 'Churchill', 'remembered', 'Churchill', 'giving', 'the', 'Blood', 'Sweat', 'and', 'Tears', 'speech'], ['John', 'promise', 'Mary', 'to', 'shave', 'himself'], ['John', 'convinced', 'Bill', 'that', 'Mary', 'should', 'sleep'], ['I', 'saw', 'Bill', 'while', 'you', 'did', 'so', 'Mary'], ['What', 'Mary', 'did', 'Bill', 'was', 'give', 'a', 'book'], ['The', 'bears', 'sniffed'], ['to', 'steal', 'talismans', 'from', 'witches', 'is', 'dangerous'], ['Anson', 'demonized'], ['You', 'kicked', 'yourselves'], ['The', 'book', 'that', 'I', 'said', 'that', 'Id', 'never', 'read'], ['Anson', 'demonized', 'up', 'the', 'Khyber'], ['It', 'is', 'not', 'true', 'that', 'I', 'might', 'be', 'going', 'to', 'the', 'party'], ['Kick', 'you'], ['Jason', 'persuaded', 'the', 'doctor', 'to', 'treat', 'Medea'], ['Who', 'did', 'you', 'get', 'an', 'accurate', 'description', 'of'], ['The', 'Peter', 'we', 'all', 'like', 'was', 'at', 'the', 'party'], ['The', 'governments', 'imposition', 'of', 'a', 'fine'], ['Did', 'Athena', 'help', 'us'], ['You', 'wanted', 'to', 'meet', 'the', 'man', 'I', 'saw'], ['Anson', 'demonized', 'David', 'every', 'day'], ['There', 'is', 'a', 'programme', 'about', 'Euripides', 'on', 'a', 'Radio', '4', 'tonight'], ['Medea', 'denied', 'poisoning', 'the', 'phoenix'], ['The', 'elixir', 'was', 'hidden', 'in', 'a', 'hole', 'in', 'the', 'ground'], ['Extremely', 'frantically', 'Anson', 'danced', 'at', 'Trade'], ['What', 'did', 'you', 'ask', 'who', 'Medea', 'gave'], ['Its', 'Anson', 'that', 'I', 'like'], ['Medea', 'tried', 'the', 'nurse', 'to', 'poison', 'her', 'children'], ['I', 'felt', 'that', 'I', 'know', 'you'], ['Will', 'he', 'can', 'do', 'it'], ['I', 'ate', 'that', 'she', 'was', 'happy'], ['Anson', 'believed', 'himself', 'to', 'be', 'handsome'], ['We', 'arrived', 'about', 'six', 'oclock'], ['Gilgamesh', 'is', 'having', 'fought', 'the', 'dragon'], ['Anson', 'thought', 'that', 'himself', 'was', 'happy'], ['Fortunately', 'Hermione', 'passed', 'biology'], ['I', 'might', 'be', 'not', 'going', 'to', 'the', 'party', 'but', 'washing', 'my', 'hair'], ['I', 'thought', 'he', 'liked', 'myself'], ['The', 'butler', 'sent', 'the', 'poison', 'to', 'Dinah'], ['Jason', 'happens', 'to', 'appear', 'to', 'seem', 'to', 'be', 'sick'], ['What', 'did', 'you', 'ask', 'who', 'saw'], ['We', 'linguists', 'love', 'to', 'argue'], ['He', 'can', 'will', 'go'], ['How', 'fierce', 'the', 'battle'], ['Which', 'king', 'did', 'you', 'ask', 'which', 'city', 'invaded'], ['It', 'is', 'some', 'disgruntled', 'old', 'pigs', 'in', 'those', 'ditches', 'that', 'humans', 'love', 'to', 'eat'], ['That', 'banana', 'is', 'eating', 'the', 'monkey'], ['Burn', 'them'], ['It', 'stinks', 'that', 'Aphrodite', 'is', 'omnipotent'], ['Agamemnon', 'seems', 'to', 'be', 'a', 'maniac'], ['Will', 'Anson', 'come', 'to', 'the', 'party'], ['I', 'wondered', 'who', 'Medea', 'had', 'poisoned'], ['I', 'inquired', 'when', 'could', 'we', 'leave'], ['They', 'kicked', 'them'], ['The', 'monkey', 'is', 'ate', 'the', 'banana'], ['I', 'would', 'like', 'to', 'could', 'swim'], ['I', 'kicked', 'myself'], ['The', 'bookcase', 'ran'], ['I', 'shaved', 'myself'], ['Anson', 'became', 'a', 'muscle', 'bound'], ['Somebody', 'just', 'left', '', 'guess', 'who'], ['They', 'claimed', 'they', 'had', 'settled', 'on', 'something', 'but', 'it', 'wasnt', 'clear', 'what', 'they', 'had', 'settled', 'on'], ['If', 'Sam', 'was', 'going', 'Sally', 'would', 'know', 'where'], ['Theyre', 'going', 'to', 'serve', 'the', 'guests', 'something', 'but', 'its', 'unclear', 'what'], ['Shes', 'reading', 'I', 'cant', 'imagine', 'what'], ['John', 'said', 'Joan', 'saw', 'someone', 'from', 'her', 'graduating', 'class'], ['John', 'ate', 'dinner', 'but', 'I', 'dont', 'know', 'who'], ['She', 'mailed', 'John', 'a', 'letter', 'but', 'I', 'dont', 'know', 'to', 'whom'], ['I', 'served', 'leek', 'soup', 'to', 'my', 'guests'], ['I', 'served', 'my', 'guests'], ['She', 'was', 'bathing', 'but', 'I', 'couldnt', 'make', 'out', 'who'], ['She', 'knew', 'French', 'for', 'Tom'], ['John', 'is', 'tall', 'on', 'several', 'occasions'], ['The', 'ship', 'sank', 'but', 'I', 'dont', 'know', 'with', 'what'], ['They', 'noticed', 'the', 'painting', 'but', 'I', 'dont', 'know', 'for', 'how', 'long'], ['John', 'was', 'tall', 'but', 'I', 'dont', 'know', 'on', 'what', 'occasions'], ['Joan', 'ate', 'dinner', 'with', 'someone', 'but', 'I', 'dont', 'know', 'who'], ['Joan', 'ate', 'dinner', 'with', 'someone', 'but', 'I', 'dont', 'know', 'who', 'with'], ['I', 'know', 'that', 'Megs', 'attracted', 'to', 'Harry', 'but', 'they', 'dont', 'know', 'who'], ['Since', 'Jill', 'said', 'Joe', 'had', 'invited', 'Sue', 'we', 'didnt', 'have', 'to', 'ask', 'who'], ['I', 'know', 'that', 'Megs', 'attracted', 'to', 'Harry', 'but', 'they', 'dont', 'know', 'who'], ['She', 'said', 'she', 'had', 'spoken', 'to', 'everybody', 'but', 'he', 'wasnt', 'sure', 'who'], ['Each', 'of', 'the', 'performers', 'came', 'in', 'but', 'were', 'sitting', 'so', 'far', 'back', 'that', 'we', 'couldnt', 'see', 'who'], ['She', 'didnt', 'talk', 'to', 'one', 'student'], ['She', 'doesnt', 'meet', 'anyone', 'for', 'dinner', 'but', 'they', 'cant', 'figure', 'out', 'who'], ['Everyone', 'relies', 'on', 'someone', 'Its', 'unclear', 'who'], ['Each', 'student', 'wrote', 'a', 'paper', 'on', 'a', 'Mayan', 'language', 'but', 'I', 'dont', 'remember', 'which', 'one'], ['The', 'newspaper', 'has', 'reported', 'that', 'they', 'are', 'about', 'to', 'appoint', 'someone', 'but', 'I', 'cant', 'remember', 'who', 'the', 'newspaper', 'has', 'reported', 'that', 'they', 'are', 'about', 'to', 'appoint'], ['The', 'newspaper', 'has', 'reported', 'that', 'they', 'are', 'about', 'to', 'appoint', 'someone', 'but', 'I', 'cant', 'remember', 'who', 'they', 'are', 'about', 'to', 'appoint'], ['Most', 'columnists', 'claim', 'that', 'a', 'senior', 'White', 'House', 'official', 'has', 'been', 'briefing', 'them', 'and', 'the', 'newspaper', 'today', 'reveals', 'which', 'one'], ['Most', 'columnists', 'claim', 'that', 'a', 'senior', 'White', 'House', 'official', 'has', 'been', 'briefing', 'them', 'but', 'none', 'will', 'reveal', 'which', 'one'], ['Bill', 'wondered', 'how', 'many', 'papers', 'Sandy', 'had', 'read', 'but', 'he', 'didnt', 'care', 'which', 'ones'], ['I', 'never', 'know', 'which', 'papers', 'Sandy', 'has', 'read', 'but', 'I', 'usually', 'know', 'how', 'many'], ['Sandy', 'had', 'read', 'how', 'many', 'papers'], ['Everybody', 'gets', 'on', 'well', 'with', 'a', 'certain', 'relative', 'but', 'often', 'only', 'his', 'therapist', 'knows', 'which', 'one'], ['Which', 'book', 'did', 'each', 'author', 'recommend'], ['His', 'or', 'her', 'least', 'known', 'work'], ['They', 'were', 'going', 'to', 'meet', 'sometime', 'on', 'Sunday', 'but', 'the', 'faculty', 'didnt', 'know', 'when'], ['John', 'likes', 'some', 'students', 'but', 'I', 'dont', 'know', 'who'], ['I', 'dont', 'know', 'who', 'John', 'likes'], ['John', 'likes', 'some', 'students', 'but', 'I', 'dont', 'know', 'who', 'John', 'likes', 'some', 'students'], ['Joan', 'said', 'she', 'talked', 'to', 'the', 'students', 'but', 'Fred', 'couldnt', 'figure', 'out', 'who'], ['He', 'announced', 'he', 'had', 'eaten', 'the', 'asparagus', 'but', 'we', 'didnt', 'know', 'what'], ['She', 'was', 'reading', 'the', 'books', 'under', 'the', 'table', 'but', 'Fred', 'didnt', 'know', 'what', 'books'], ['He', 'announced', 'he', 'would', 'marry', 'the', 'woman', 'he', 'loved', 'most', 'but', 'none', 'of', 'his', 'relatives', 'could', 'figure', 'out', 'who'], ['She', 'talked', 'to', 'John', 'or', 'Mary', 'but', 'I', 'dont', 'know', 'which'], ['She', 'talked', 'to', 'John', 'or', 'Mary', 'but', 'I', 'dont', 'know', 'which', 'one'], ['She', 'talked', 'to', 'Harry', 'but', 'I', 'dont', 'know', 'who', 'else'], ['I', 'will', 'see', 'them', 'but', 'I', 'dont', 'know', 'how', 'many', 'of', 'them'], ['Everyone', 'who', 'knows', 'either', 'Susan', 'or', 'Laura', 'likes', 'her'], ['She', 'said', 'she', 'talked', 'to', 'three', 'students', 'but', 'I', 'dont', 'know', 'how', 'many'], ['She', 'said', 'she', 'talked', 'to', 'those', 'students', 'but', 'I', 'dont', 'know', 'how', 'many'], ['He', 'shouted', 'again', 'but', 'I', 'dont', 'know', 'who', 'to'], ['She', 'was', 'dancing', 'with', 'somebody', 'but', 'I', 'dont', 'know', 'who', 'with'], ['Several', 'firefighters', 'were', 'injured', 'but', 'its', 'not', 'known'], ['Meg', 'is', 'attracted', 'to', 'Harry', 'but', 'they', 'dont', 'know', 'who', 'she', 'is', 'attracted', 'to'], ['Sandy', 'was', 'trying', 'to', 'work', 'out', 'which', 'students', 'would', 'be', 'able', 'to', 'solve', 'a', 'certain', 'problem', 'but', 'she', 'wouldnt', 'tell', 'us', 'which', 'one'], ['Sandy', 'was', 'trying', 'to', 'work', 'out', 'which', 'students', 'would', 'be', 'able', 'to', 'solve', 'a', 'certain', 'problem', 'but', 'she', 'wouldnt', 'tell', 'us', 'which', 'one'], ['John', 'and', 'someone', 'were', 'dancing', 'together', 'but', 'I', 'dont', 'know', 'who'], ['The', 'TAs', 'have', 'been', 'arguing', 'about', 'whether', 'some', 'student', 'or', 'other', 'should', 'pass', 'but', 'I', 'cant', 'now', 'remember', 'which', 'one'], ['It', 'has', 'been', 'determined', 'that', 'somebody', 'will', 'be', 'appointed', 'its', 'just', 'not', 'clear', 'yet', 'who'], ['Sally', 'asked', 'if', 'somebody', 'was', 'going', 'to', 'fail', 'math', 'class', 'but', 'I', 'cant', 'remember', 'who'], ['The', 'TAs', 'have', 'been', 'arguing', 'about', 'whether', 'some', 'student', 'or', 'other', 'should', 'pass', 'but', 'I', 'cant', 'now', 'remember', 'which', 'one'], ['Sandy', 'is', 'very', 'anxious', 'to', 'see', 'if', 'the', 'students', 'will', 'be', 'able', 'to', 'solve', 'the', 'homework', 'problem', 'in', 'a', 'particular', 'way', 'but', 'she', 'wont', 'tell', 'us', 'which'], ['Sandy', 'is', 'very', 'anxious', 'to', 'see', 'if', 'the', 'students', 'will', 'be', 'able', 'to', 'solve', 'the', 'homework', 'problem', 'in', 'a', 'particular', 'way', 'but', 'she', 'wont', 'tell', 'us', 'in', 'which', 'way'], ['Clinton', 'is', 'anxious', 'to', 'find', 'out', 'which', 'budget', 'dilemmas', 'Panetta', 'would', 'be', 'willing', 'to', 'tackle', 'in', 'a', 'certain', 'way', 'but', 'he', 'wont', 'say', 'in', 'which'], ['Sandy', 'is', 'wondering', 'whether', 'there', 'will', 'be', 'students', 'who', 'have', 'to', 'drop', 'the', 'class', 'for', 'a', 'certain', 'reason', 'but', 'she', 'wont', 'reveal', 'what'], ['In', 'which', 'way', 'is', 'Sandy', 'very', 'anxious', 'to', 'see', 'if', 'the', 'students', 'will', 'be', 'able', 'to', 'solve', 'the', 'homework', 'problem'], ['In', 'which', 'way', 'is', 'Clinton', 'anxious', 'to', 'find', 'out', 'which', 'budget', 'dilemmas', 'Panetta', 'would', 'be', 'willing', 'to', 'solve'], ['I', 'know', 'how', 'many', 'assignments', 'Ive', 'graded', 'but', 'I', 'dont', 'know', 'how', 'many', 'Bill', 'has'], ['What', 'did', 'you', 'leave', 'before', 'they', 'did'], ['What', 'did', 'you', 'leave', 'before', 'they', 'started', 'playing'], ['Sandy', 'was', 'trying', 'to', 'work', 'out', 'which', 'students', 'would', 'be', 'able', 'to', 'solve', 'a', 'certain', 'problem'], ['The', 'administration', 'has', 'issued', 'a', 'statement', 'that', 'it', 'is', 'willing', 'to', 'meet', 'with', 'one', 'of', 'the', 'student', 'groups'], ['Sandy', 'was', 'trying', 'to', 'work', 'out', 'which', 'students', 'would', 'be', 'able', 'to', 'solve', 'a', 'problem'], ['The', 'administration', 'has', 'issued', 'a', 'statement', 'that', 'it', 'is', 'willing', 'to', 'meet', 'a', 'student', 'group'], ['The', 'administration', 'has', 'issued', 'a', 'statement', 'that', 'it', 'is', 'willing', 'to', 'meet', 'a', 'student', 'group', 'but', 'Im', 'not', 'sure', 'which', 'one'], ['I', 'think', 'Agnes', 'said', 'that', 'Bill', 'would', 'speak', 'but', 'I', 'dont', 'remember', 'what', 'about'], ['Agnes', 'wondered', 'how', 'John', 'could', 'eat', 'but', 'its', 'not', 'clear', 'what'], ['Tony', 'sent', 'Mo', 'a', 'picture', 'that', 'he', 'painted', 'but', 'its', 'not', 'clear', 'with', 'what'], ['Shes', 'been', 'dancing', 'but', 'we', 'dont', 'know', 'with', 'whom'], ['Who', 'did', 'they', 'see', 'someone'], ['It', 'was', 'believed', 'by', 'everybody', 'that', 'Mary', 'was', 'a', 'thief'], ['That', 'professor', 'is', 'feared', 'by', 'all', 'students'], ['Mary', 'was', 'respected', 'by', 'John'], ['Ted', 'was', 'bitten', 'by', 'the', 'spider'], ['The', 'book', 'was', 'by', 'John', 'written'], ['The', 'argument', 'was', 'summed', 'by', 'the', 'coach', 'up'], ['The', 'paper', 'was', 'written', 'up', 'by', 'John'], ['The', 'paper', 'was', 'written', 'by', 'John', 'up'], ['John', 'was', 'spoken', 'to', 'by', 'Mary'], ['John', 'was', 'spoken', 'by', 'Mary', 'to'], ['The', 'book', 'was', 'seen', 'by', 'Mary'], ['John', 'was', 'seen', 'the', 'book'], ['The', 'book', 'was', 'written'], ['John', 'was', 'spoke', 'by', 'Mary', 'to'], ['The', 'table', 'was', 'wiped', 'clean', 'by', 'John'], ['The', 'table', 'was', 'wiped', 'by', 'John', 'clean'], ['Mary', 'was', 'given', 'by', 'John', 'the', 'book'], ['John', 'was', 'believed', 'to', 'be', 'telling', 'the', 'truth', 'by', 'Mary'], ['John', 'was', 'believed', 'by', 'Mary', 'to', 'be', 'telling', 'the', 'truth'], ['The', 'car', 'was', 'driven', 'by', 'John', 'to', 'Maine'], ['It', 'was', 'believed', 'by', 'the', 'students', 'that', 'they', 'would', 'have', 'an', 'exam'], ['The', 'magazines', 'were', 'sent', 'to', 'herself', 'by', 'Mary'], ['Chocolate', 'eggs', 'were', 'hidden', 'from', 'each', 'other', 'by', 'the', 'children'], ['The', 'magazines', 'were', 'sent', 'by', 'Mary', 'to', 'herself'], ['Chocolate', 'eggs', 'were', 'hidden', 'from', 'no', 'child', 'by', 'any', 'adult'], ['Tabs', 'were', 'kept', 'on', 'each', 'agent', 'by', 'the', 'other'], ['Chocolate', 'eggs', 'were', 'hidden', 'from', 'every', 'child', 'by', 'his', 'mother'], ['Books', 'were', 'taken', 'from', 'no', 'student', 'and', 'given', 'to', 'Mary'], ['Books', 'were', 'taken', 'from', 'no', 'student', 'and', 'given', 'to', 'Mary', 'by', 'any', 'professor'], ['Books', 'were', 'taken', 'from', 'each', 'student', 'by', 'the', 'other'], ['Books', 'were', 'taken', 'from', 'each', 'student', 'and', 'given', 'to', 'Mary'], ['Books', 'were', 'taken', 'from', 'each', 'student', 'and', 'given', 'to', 'Mary', 'by', 'the', 'other'], ['Jack', 'hates', 'Sue', 'and', 'is', 'loved', 'by', 'Mary'], ['Vera', 'sent', 'a', 'baby', 'alligator', 'to', 'Max', 'and', 'a', 'leather', 'dinosaur', 'to', 'Phyllis'], ['Either', 'Sam', 'plays', 'the', 'bassoon', 'or', 'Jekyll', 'the', 'oboe'], ['Sam', 'doesnt', 'play', 'bassoon', 'nor', 'Medusa', 'oboe'], ['Bill', 'ate', 'the', 'peaches', 'but', 'Harry', 'the', 'grapes'], ['I', 'no', 'more', 'could', 'have', 'stolen', 'that', 'steak', 'than', 'Jack', 'the', 'diamonds'], ['Bill', 'ate', 'more', 'peaches', 'than', 'Harry', 'did', 'grapes'], ['Bill', 'ate', 'the', 'peaches', 'and', 'Harry', 'did', 'the', 'grapes'], ['Tom', 'will', 'smoke', 'the', 'grass', 'and', 'Reuben', 'has', 'the', 'hash'], ['If', 'the', 'ants', 'were', 'called', 'elephants', 'and', 'elephants', 'ants', 'Id', 'be', 'able', 'to', 'squash', 'an', 'elephant'], ['Simon', 'quickly', 'dropped', 'the', 'gold', 'and', 'Jack', 'the', 'diamonds'], ['Bob', 'tried', 'to', 'wash', 'himself', 'and', 'Mary', 'to', 'read', 'the', 'funnies'], ['Harry', 'told', 'Sue', 'that', 'Albania', 'is', 'a', 'lovely', 'place', 'for', 'a', 'vacation', 'and', 'Tom', 'told', 'Sally', 'that', 'Albania', 'is', 'a', 'lovely', 'place', 'for', 'a', 'vacation'], ['Harry', 'told', 'Sue', 'that', 'Albania', 'is', 'a', 'lovely', 'place', 'for', 'a', 'vacation', 'and', 'Tom'], ['Max', 'seemed', 'to', 'be', 'trying', 'to', 'begin', 'to', 'love', 'Harriet', 'and', 'Fred', 'to', 'be', 'trying', 'to', 'begin', 'to', 'love', 'Sue'], ['Max', 'seemed', 'to', 'be', 'trying', 'to', 'force', 'Ted', 'to', 'leave', 'the', 'room', 'and', 'Walt', 'Ira'], ['Max', 'seemed', 'to', 'be', 'trying', 'to', 'force', 'Ted', 'to', 'leave', 'the', 'room', 'and', 'Walt', 'to', 'stay', 'a', 'little', 'longer'], ['Arizona', 'elected', 'Goldwater', 'Senator', 'and', 'Massachusetts', 'McCormack'], ['Millie', 'will', 'send', 'the', 'President', 'an', 'obscene', 'telegram', 'and', 'Paul', 'the', 'Secretary', 'a', 'rude', 'letter'], ['Maytag', 'will', 'give', 'a', 'brandnew', 'dryer', 'to', 'the', 'winner', 'of', 'the', 'Mrs'], ['Bill', 'didnt', 'eat', 'the', 'peaches', 'nor', 'Harry'], ['Bill', 'ate', 'the', 'peaches', 'and', 'Harry', 'did', 'too'], ['Bill', 'must', 'quickly', 'eat', 'the', 'peaches', 'and', 'Harry', 'must', 'slowly'], ['Whenever', 'Russia', 'has', 'made', 'a', 'major', 'political', 'blunder', 'the', 'US', 'has', 'too'], ['Bills', 'story', 'about', 'Sue', 'and', 'Maxs', 'about', 'Kathy', 'both', 'amazed', 'me'], ['I', 'bought', 'three', 'quarts', 'of', 'wine', 'and', 'two', 'of', 'Clorox'], ['Scientists', 'at', 'the', 'South', 'Hanoi', 'Institute', 'of', 'Technology', 'have', 'succeeded', 'in', 'raising', 'one', 'dog', 'with', 'five', 'legs', 'another', 'with', 'a', 'cows', 'liver', 'and', 'a', 'third', 'with', 'no', 'head'], ['Bills', 'story', 'about', 'Sue', 'may', 'be', 'amazing', 'but', 'Maxs', 'is', 'virtually', 'incredible'], ['I', 'like', 'Bills', 'yellow', 'shirt', 'but', 'not', 'Maxs'], ['Bills', 'funny', 'story', 'about', 'Sue', 'and', 'Maxs', 'boring', 'one', 'about', 'Kathy', 'both', 'amazed', 'me'], ['Bills', 'wine', 'from', 'France', 'and', 'Teds', 'from', 'California', 'cannot', 'be', 'compared'], ['As', 'a', 'teacher', 'you', 'have', 'to', 'deal', 'simultaneously', 'with', 'the', 'administrations', 'pressure', 'on', 'you', 'to', 'succeed', 'and', 'the', 'childrens', 'to', 'be', 'a', 'nice', 'guy'], ['Neither', 'Von', 'Karajans', 'recording', 'of', 'Beethovens', '6th', 'on', 'Columbia', 'nor', 'Klemperers', 'on', 'Angel', 'has', 'the', 'right', 'tempo'], ['Goulds', 'performance', 'of', 'Bach', 'on', 'the', 'piano', 'doesnt', 'please', 'me', 'anywhere', 'as', 'much', 'as', 'Rosss', 'on', 'the', 'harpsichord'], ['Toms', 'dog', 'with', 'one', 'eye', 'attacked', 'Franks', 'with', 'three', 'legs'], ['Because', 'Steves', 'of', 'a', 'spiders', 'eye', 'had', 'been', 'stolen', 'I', 'borrowed', 'Freds', 'diagram', 'of', 'a', 'snakes', 'fang'], ['Neither', 'von', 'Karajans', 'recording', 'of', 'Beethovens', '6th', 'on', 'Columbia', 'nor', 'Klemperers', 'has', 'the', 'right', 'tempo'], ['Toms', 'dog', 'with', 'one', 'eye', 'attacked', 'Freds'], ['I', 'borrowed', 'Freds', 'diagram', 'of', 'a', 'snakes', 'eye', 'because', 'Steves', 'had', 'been', 'stolen'], ['Jerry', 'attempted', 'to', 'blow', 'up', 'the', 'Pentagon'], ['So', 'fast', 'did', 'he', 'run', 'that', 'nobody', 'could', 'catch', 'him'], ['Bill', 'bought', 'a', 'red', 'house', 'and', 'Max', 'bought', 'one', 'too'], ['Who', 'always', 'drinks', 'milk'], ['The', 'book', 'which', 'inspired', 'them', 'was', 'very', 'long'], ['The', 'book', 'what', 'inspired', 'them', 'was', 'very', 'long'], ['I', 'know', 'the', 'person', 'whose', 'mother', 'died'], ['The', 'person', 'whose', 'mothers', 'dog', 'we', 'were', 'all', 'fond', 'of'], ['I', 'wonder', 'whose', 'mother', 'died'], ['I', 'wonder', 'whose', 'mothers', 'dog', 'died'], ['I', 'wonder', 'to', 'whom', 'they', 'dedicated', 'the', 'building'], ['Give', 'me', 'the', 'phone', 'number', 'of', 'the', 'person', 'whose', 'mothers', 'dog', 'died'], ['This', 'is', 'the', 'senator', 'to', 'whose', 'mothers', 'friends', 'sisters', 'I', 'sent', 'the', 'letter'], ['I', 'want', 'goes', 'to', 'the', 'store'], ['I', 'wonder', 'what', 'to', 'be', 'a', 'clown', 'on', 'the', 'cover', 'of'], ['Bother', 'you', 'that', 'Kim', 'left'], ['A', 'student', 'who', 'to', 'talk', 'to', 'us', 'just', 'walked', 'in'], ['Whose', 'bagels', 'do', 'you', 'like'], ['I', 'wonder', 'in', 'whom', 'to', 'place', 'my', 'trust'], ['There', 'were', 'several', 'old', 'rocks', 'songs', 'that', 'she', 'and', 'I', 'were', 'the', 'only', 'two', 'who', 'knew'], ['It', 'was', 'to', 'to', 'amuse', 'us', 'that', 'Kim', 'was', 'singing', 'that', 'they', 'wanted'], ['What', 'they', 'feared', 'most', 'was', 'to', 'be', 'no', 'one', 'available', 'to', 'help', 'them'], ['We', 'tried', 'to', 'amuse', 'them', 'that', 'Kim', 'was', 'singing'], ['Mary', 'asked', 'me', 'if', 'in', 'St', 'Louis', 'John', 'could', 'rent', 'a', 'house', 'cheap'], ['Mary', 'arranged', 'for', 'in', 'St', 'Louis', 'John', 'to', 'rent', 'a', 'house', 'cheap'], ['It', 'would', 'be', 'unwise', 'for', 'there', 'to', 'be', 'no', 'fire', 'exit'], ['I', 'believe', 'there', 'to', 'be', 'no', 'way', 'out'], ['I', 'wonder', 'in', 'whom', 'them', 'to', 'place', 'their', 'trust'], ['I', 'wonder', 'whom', 'us', 'to', 'trust'], ['I', 'wonder', 'who', 'for', 'us', 'to', 'trust'], ['I', 'wonder', 'who', 'to', 'place', 'my', 'trust', 'in'], ['I', 'know', 'the', 'people', 'that', 'voted', 'in', 'the', 'election'], ['I', 'threw', 'away', 'a', 'book', 'that', 'Sandy', 'thought', 'we', 'had', 'read'], ['I', 'thought', 'that', 'you', 'were', 'sick'], ['I', 'dislike', 'the', 'people', 'in', 'who', 'we', 'placed', 'our', 'trust'], ['I', 'dislike', 'the', 'company', 'in', 'which', 'we', 'placed', 'our', 'trust'], ['I', 'dislike', 'the', 'people', 'in', 'whose', 'house', 'we', 'stayed'], ['I', 'dislike', 'the', 'person', 'with', 'whom', 'we', 'were', 'talking'], ['Jones', 'that', 'we', 'were', 'talking', 'to', 'last', 'night', 'always', 'watches', 'football', 'games', 'alone'], ['A', 'letter', 'was', 'received', 'that', 'Jones', 'would', 'be', 'upset', 'by'], ['A', 'letter', 'was', 'received', 'Jones', 'would', 'be', 'upset', 'by'], ['I', 'saw', 'someone', 'yesterday', 'I', 'hadnt', 'seen', 'for', 'years'], ['Something', 'happened', 'I', 'couldnt', 'really', 'talk', 'about'], ['The', 'only', 'person', 'that', 'I', 'like', 'whose', 'kids', 'Dana', 'is', 'willing', 'to', 'put', 'up', 'with', 'is', 'Pat'], ['The', 'book', 'that', 'I', 'like', 'which', 'everyone', 'else', 'in', 'the', 'class', 'hates', 'was', 'written', 'by', 'John'], ['The', 'only', 'person', 'whose', 'kids', 'Dana', 'is', 'willing', 'to', 'put', 'up', 'with', 'was', 'written', 'by', 'John'], ['The', 'book', 'that', 'I', 'like', '', 'everyone', 'else', 'in', 'the', 'class', 'hates'], ['The', 'only', 'person', 'whose', 'kids', 'Dana', 'is', 'willing', 'to', 'put', 'up', 'with', 'is', 'Pat'], ['Which', 'books', 'author', 'did', 'you', 'meet'], ['Which', 'boys', 'mother', 'did', 'you', 'meet', 'who', 'you', 'liked'], ['Which', 'books', 'author', 'did', 'you', 'meet', 'who', 'you', 'liked'], ['Which', 'boys', 'mother', 'did', 'you', 'meet'], ['All', 'who', 'lost', 'money', 'in', 'the', 'scam', 'are', 'eligible', 'for', 'the', 'program'], ['Who', 'for', 'Sandy', 'to', 'talk', 'to', 'is', 'still', 'enrolled', 'in', 'the', 'class'], ['Who', 'who', 'you', 'like', 'does', 'Sandy', 'also', 'like'], ['Everything', 'you', 'like', 'is', 'on', 'the', 'table'], ['The', 'bills', 'passed', 'by', 'the', 'House', 'yesterday', 'that', 'we', 'objected', 'to', 'were', 'vetoed'], ['The', 'only', 'people', 'being', 'added', 'to', 'our', 'group', 'who', 'were', 'at', 'Harvard', 'were', 'students'], ['We', 'like', 'ourselves'], ['Nobody', 'likes', 'us'], ['Leslie', 'likes', 'ourselves'], ['Ourselves', 'like', 'ourselves'], ['She', 'voted', 'for', 'herself'], ['We', 'gave', 'us', 'presents'], ['We', 'gave', 'ourselves', 'presents'], ['We', 'gave', 'presents', 'to', 'ourselves'], ['We', 'gave', 'us', 'to', 'the', 'cause'], ['We', 'gave', 'ourselves', 'to', 'the', 'cause'], ['Leslie', 'told', 'us', 'about', 'us'], ['Leslie', 'told', 'ourselves', 'about', 'us'], ['We', 'think', 'that', 'Leslie', 'likes', 'us'], ['We', 'think', 'that', 'Leslie', 'likes', 'ourselves'], ['Our', 'friends', 'like', 'us'], ['Those', 'pictures', 'of', 'us', 'offended', 'us'], ['We', 'found', 'your', 'letter', 'to', 'ourselves', 'in', 'the', 'trash'], ['Vote', 'for', 'you'], ['Vote', 'for', 'yourself'], ['We', 'appeared', 'to', 'them', 'to', 'vote', 'for', 'themselves'], ['We', 'admired', 'the', 'pictures', 'of', 'us', 'in', 'the', 'album'], ['We', 'admired', 'the', 'pictures', 'of', 'ourselves', 'in', 'the', 'album'], ['Leslie', 'used', 'a', 'pen'], ['We', 'put', 'the', 'pigs', 'in', 'a', 'pen'], ['We', 'need', 'to', 'pen', 'the', 'pigs', 'to', 'keep', 'them', 'from', 'getting', 'into', 'the', 'corn'], ['They', 'should', 'pen', 'the', 'letter', 'quickly'], ['The', 'car', 'wont', 'run'], ['This', 'dye', 'will', 'run'], ['She', 'can', 'run', 'an', 'accelerator'], ['These', 'stockings', 'will', 'run'], ['We', 'need', 'another', 'run', 'to', 'win'], ['Lee', 'saw', 'the', 'student', 'with', 'a', 'telescope'], ['I', 'forgot', 'how', 'good', 'beer', 'tastes'], ['Visiting', 'relatives', 'can', 'be', 'boring'], ['If', 'only', 'Superman', 'would', 'stop', 'flying', 'planes'], ['Thats', 'a', 'new', 'car', 'dealership'], ['I', 'know', 'you', 'like', 'the', 'back', 'of', 'my', 'hand'], ['Max', 'is', 'on', 'the', 'phone', 'now'], ['I', 'saw', 'her', 'duck'], ['Im', 'creating', 'a', 'committee', 'Kim', '–', 'youre', 'in', 'charge'], ['Lights', 'go', 'out', 'at', 'ten', 'There', 'will', 'be', 'no', 'talking', 'afterwards'], ['They', 'found', 'the', 'book', 'on', 'the', 'atom'], ['Which', 'experts', 'testified', 'against', 'defendants', 'who', 'exposed', 'them'], ['List', 'all', 'experts', 'for', 'the', 'defendant', 'who', 'represented', 'himself'], ['List', 'associates', 'of', 'each', 'defendant', 'who', 'speaks', 'Spanish'], ['They', 'lost', 'themselves', 'books'], ['Some', 'sentences', 'go', 'on', 'and', 'on', 'and', 'on'], ['Sentences', 'some', 'go', 'on', 'and', 'on', 'and', 'on', 'and', 'on'], ['That', 'surprised', 'me'], ['I', 'noticed', 'the'], ['They', 'were', 'interested', 'in', 'his'], ['This', 'is', 'my', 'favorite'], ['A', 'large', 'dog', 'chased', 'a', 'small', 'cat'], ['Some', 'people', 'yell', 'at', 'noisy', 'dogs', 'in', 'my', 'neighborhood'], ['Some', 'people', 'yell', 'at', 'the', 'dogs', 'in', 'my', 'neighborhood'], ['Some', 'people', 'yell', 'at', 'the', 'dogs'], ['Some', 'people', 'yell', 'at', 'noisy', 'dogs'], ['Some', 'people', 'yell', 'at', 'dogs'], ['Some', 'people', 'consider', 'the', 'noisy', 'dogs', 'dangerous'], ['Some', 'people', 'consider', 'the', 'dogs', 'in', 'my', 'neighborhood', 'dangerous'], ['Some', 'people', 'consider', 'noisy', 'dogs', 'in', 'my', 'neighborhood', 'dangerous'], ['Some', 'people', 'consider', 'the', 'dogs', 'dangerous'], ['Some', 'people', 'consider', 'noisy', 'dogs', 'dangerous'], ['Some', 'people', 'consider', 'dogs', 'in', 'my', 'neighborhood', 'dangerous'], ['Some', 'people', 'consider', 'dogs', 'dangerous'], ['People', 'with', 'children', 'who', 'use', 'drugs', 'should', 'be', 'locked', 'up'], ['This', 'disease', 'gave', 'Leslie', 'a', 'fever', 'in', 'Rome'], ['The', 'love', 'of', 'my', 'life', 'and', 'mother', 'of', 'my', 'children', 'would', 'never', 'do', 'such', 'a', 'thing'], ['Most', 'elections', 'are', 'quickly', 'forgotten', 'but', 'the', 'election', 'of', '2000', 'everyone', 'will', 'remember', 'for', 'a', 'long', 'time'], ['It', 'is', 'painting', 'by', 'Klee', 'or', 'drawing', 'by', 'Miro', 'that', 'the', 'museum', 'displays', 'no'], ['The', 'defendant', 'denied', 'the', 'accusation'], ['The', 'teacher', 'disappeared', 'the', 'problem'], ['The', 'teacher', 'handed', 'the', 'student'], ['The', 'bird', 'sings'], ['The', 'bird', 'sing'], ['Birds', 'sings'], ['The', 'birds', 'give', 'the', 'worm', 'a', 'tug'], ['The', 'bird', 'give', 'the', 'worm', 'a', 'tug'], ['The', 'birds', 'gives', 'the', 'worm', 'a', 'tug'], ['Terry', 'delighted', 'in', 'my', 'pain'], ['Terry', 'delighted'], ['Terry', 'delighted', 'my', 'pain'], ['Kerry', 'remarked', 'it', 'was', 'late'], ['What', 'additional', 'categories', 'and', 'rules', 'would', 'be', 'required', 'to', 'handle', 'these', 'verbs'], ['We', 'created', 'a', 'monster'], ['I', 'was', 'already', 'aware', 'of', 'fact'], ['The', 'defendant', 'deny', 'the', 'allegation'], ['The', 'defendants', 'denies', 'the', 'allegation'], ['The', 'defendant', 'walks'], ['The', 'defendant', 'walk'], ['The', 'defendants', 'walks'], ['How', 'many', 'feature', 'structures', 'categories', 'can', 'label', 'the', 'first', 'daughter'], ['The', 'child', 'put', 'the', 'toy', 'on', 'the', 'table'], ['The', 'teacher', 'became', 'angry', 'with', 'the', 'students'], ['The', 'teacher', 'became'], ['The', 'jury', 'believed', 'the', 'defendant', 'lied'], ['The', 'guests', 'dined'], ['We', 'relied', 'on', 'Leslie'], ['We', 'relied', 'above', 'Leslie'], ['We', 'celebrated', 'in', 'the', 'streets'], ['We', 'celebrated', 'in', 'the', 'streets', 'in', 'the', 'rain', 'on', 'Tuesday', 'in', 'the', 'morning'], ['The', 'children', 'are', 'happy', 'of', 'ice', 'cream'], ['The', 'children', 'are', 'fond', 'with', 'the', 'ice', 'cream'], ['The', 'children', 'are', 'fond', 'that', 'they', 'have', 'ice', 'cream'], ['A', 'magazine', 'appeared', 'on', 'the', 'newsstands'], ['A', 'magazine', 'about', 'crime', 'appeared', 'on', 'the', 'newsstands'], ['Newsweek', 'appeared', 'on', 'the', 'newsstands'], ['Newsweek', 'about', 'crime', 'appeared', 'on', 'the', 'newsstands'], ['The', 'report', 'that', 'crime', 'was', 'declining', 'surprised', 'many', 'people'], ['The', 'book', 'surprised', 'many', 'people'], ['The', 'book', 'that', 'crime', 'was', 'declining', 'surprised', 'many', 'people'], ['The', 'storm', 'arrived', 'after', 'the', 'picnic'], ['The', 'storm', 'arrived', 'while', 'the', 'picnic'], ['The', 'storm', 'arrived', 'while', 'we', 'ate', 'lunch'], ['This', 'dogs', 'barked'], ['These', 'dogs', 'barked'], ['A', 'chair', 'was', 'broken'], ['They', 'want', 'them', 'arrested'], ['They', 'preferred', 'them', 'arrested'], ['We', 'preferred', 'them', 'on', 'our', 'team'], ['With', 'my', 'parents', 'as', 'supportive', 'as', 'they', 'are', 'Ill', 'be', 'in', 'fine', 'shape'], ['We', 'walks'], ['Few', 'dog', 'barked'], ['The', 'dogs', 'barked'], ['I', 'walk', 'and', 'Dana', 'runs'], ['They', 'like', 'us'], ['Us', 'like', 'them'], ['Kim', 'likes', 'dogs'], ['Dogs', 'like', 'Kim'], ['The', 'person', 'responsible', 'confessed'], ['The', 'person', 'confessed', 'responsible'], ['The', 'cat', 'slept', 'soundly', 'and', 'furry'], ['The', 'soundly', 'and', 'furry', 'cat', 'slept'], ['Chris', 'walks', 'Pat', 'eats', 'broccoli', 'and', 'Sandy', 'plays', 'squash'], ['There', 'was', 'some', 'particular', 'dog', 'who', 'saved', 'every', 'family'], ['Susan', 'frightens', 'her'], ['Susan', 'told', 'her', 'a', 'story'], ['Susan', 'told', 'a', 'story', 'to', 'her'], ['Susan', 'devoted', 'herself', 'to', 'linguistics'], ['Nobody', 'told', 'Susan', 'about', 'herself'], ['That', 'picture', 'of', 'Susan', 'offended', 'her'], ['He', 'offended', 'Sandy'], ['I', 'enjoy', 'yourself'], ['They', 'talk', 'to', 'themselves'], ['Nobody', 'told', 'Susan'], ['Protect', 'yourself'], ['Protect', 'you'], ['I', 'met', 'the', 'person', 'who', 'left'], ['Leslie', 'slept'], ['Chris', 'handed', 'Bo'], ['Dana', 'walked', 'and', 'Leslie', 'ran'], ['Dana', 'walking', 'and', 'Leslie', 'ran'], ['Dana', 'walking', 'and', 'Leslie', 'running'], ['the', 'putter', 'of', 'books', 'left'], ['Kris', 'donated', 'a', 'book', 'to', 'the', 'library'], ['The', 'police', 'sprayed', 'the', 'protesters', 'with', 'water'], ['The', 'police', 'sprayed', 'water', 'on', 'the', 'protesters'], ['The', 'students', 'drove', 'cars'], ['These', 'cars', 'drive', 'easily'], ['The', 'horse', 'kicked', 'me', 'black', 'and', 'blue'], ['They', 'yelled'], ['The', 'horse', 'raced', 'past', 'the', 'barn', 'fell'], ['The', 'horse', 'that', 'was', 'raced', 'past', 'the', 'barn', 'fell'], ['The', 'boat', 'seen', 'down', 'the', 'river', 'sank'], ['The', 'evidence', 'assembled', 'by', 'the', 'prosecution', 'convinced', 'the', 'jury'], ['Lou', 'forgot', 'the', 'umbrella'], ['Lou', 'forgot', 'the', 'umbrella', 'in', 'the', 'closet'], ['Lou', 'hoped', 'the', 'umbrella', 'was', 'broken'], ['Lou', 'hoped', 'the', 'umbrella', 'in', 'the', 'closet'], ['Lou', 'put', 'the', 'umbrella', 'was', 'broken'], ['Lou', 'put', 'the', 'umbrella', 'in', 'the', 'closet'], ['The', 'artist', 'drew', 'the', 'child', 'with', 'a', 'pencil'], ['The', 'dog', 'bit', 'the', 'cat'], ['The', 'cat', 'was', 'bitten', 'the', 'mouse'], ['The', 'cat', 'was', 'bitten', 'the', 'mouse', 'by', 'the', 'dog'], ['Chris', 'was', 'handed', 'Sandy', 'a', 'note', 'by', 'Pat'], ['Chris', 'was', 'handed', 'a', 'note'], ['Chris', 'was', 'handed', 'Sandy', 'a', 'note'], ['TV', 'puts', 'dumb', 'ideas', 'in', 'childrens', 'heads'], ['Dumb', 'ideas', 'are', 'put', 'in', 'childrens', 'heads', 'by', 'TV'], ['Dumb', 'ideas', 'are', 'put', 'in', 'childrens', 'heads'], ['Dumb', 'ideas', 'are', 'put', 'notions', 'in', 'childrens', 'heads', 'by', 'TV'], ['The', 'patient', 'died'], ['The', 'patient', 'was', 'died'], ['Chris', 'was', 'handed'], ['TV', 'puts', 'dumb', 'ideas'], ['He', 'was', 'arrested', 'by', 'the', 'police'], ['The', 'cat', 'got', 'bitten'], ['The', 'cat', 'were', 'bitten', 'by', 'the', 'dog'], ['There', 'is', 'a', 'monster', 'in', 'Loch', 'Ness'], ['It', 'is', 'obvious', 'that', 'Pat', 'is', 'lying'], ['Pat', 'is', 'the', 'captain', 'of', 'the', 'team'], ['Pat', 'is', 'hate', 'Chris'], ['There', 'is', 'a', 'unicorn', 'in', 'the', 'garden'], ['There', 'was', 'a', 'felon', 'elected', 'to', 'the', 'city', 'council'], ['There', 'is', 'a', 'seat', 'available'], ['A', 'seat', 'available', 'was', 'in', 'the', 'last', 'row'], ['Many', 'people', 'were', 'fond', 'of', 'Pat'], ['People', 'are', 'looking', 'through', 'the', 'window'], ['A', 'felon', 'was', 'elected', 'to', 'the', 'city', 'council'], ['There', 'loved', 'Sandy'], ['We', 'talked', 'to', 'them', 'about', 'there'], ['It', 'mattered', 'that', 'the', 'Giants', 'had', 'lost'], ['That', 'dogs', 'bark', 'annoys', 'people'], ['It', 'annoys', 'people', 'that', 'dogs', 'bark'], ['That', 'Chris', 'knew', 'the', 'answer', 'occurred', 'to', 'Pat'], ['It', 'never', 'occurred', 'to', 'Pat', 'that', 'Chris', 'knew', 'the', 'answer'], ['That', 'the', 'Cardinal', 'won', 'the', 'game', 'gave', 'Sandy', 'a', 'thrill'], ['It', 'gave', 'Sandy', 'a', 'thrill', 'that', 'the', 'Cardinal', 'won', 'the', 'game'], ['That', 'Sandy', 'had', 'lied', 'suggested'], ['It', 'loved', 'Sandy'], ['Cohen', 'proved', 'the', 'independence', 'of', 'the', 'continuum', 'hypothesis'], ['Cohen', 'proved', 'that', 'the', 'continuum', 'hypothesis', 'was', 'independent'], ['We', 'forgot', 'our', 'invitations'], ['Nobody', 'saw', 'Pat'], ['That', 'Fido', 'barks', 'annoys', 'me'], ['Fido', 'barks'], ['Chris', 'dreads', 'the', 'bucket'], ['The', 'candidates', 'bring', 'advantage', 'to', 'the', 'voters'], ['Tabs', 'are', 'kept', 'on', 'suspected', 'drug', 'dealers', 'by', 'the', 'FBI'], ['Advantage', 'is', 'taken', 'of', 'every', 'opportunity', 'for', 'improvement'], ['The', 'bucket', 'was', 'kicked', 'by', 'Pat'], ['John', 'is', 'sad'], ['John', 'loaded', 'the', 'wagon', 'full', 'with', 'hay'], ['John', 'loaded', 'the', 'wagon', 'with', 'hay', 'green'], ['I', 'presented', 'John', 'with', 'it', 'dead'], ['Of', 'whom', 'are', 'you', 'thinking'], ['John', 'became', 'rich'], ['I', 'gave', 'John', 'gold', 'apples'], ['how', 'silly', 'is', 'Bill', 'considered'], ['how', 'mad', 'was', 'Bill', 'made'], ['John', 'is', 'sick'], ['John', 'left', 'singing'], ['John', 'is', 'near', 'Larry'], ['John', 'gave', 'Bill', 'the', 'dog', 'dead'], ['Bill', 'was', 'struck', 'by', 'John', 'as', 'stupid'], ['John', 'was', 'struck', 'as', 'sick'], ['John', 'was', 'struck', 'by', 'Bills', 'idiocy'], ['John', 'promised', 'Bill', 'to', 'leave'], ['John', 'tried', 'to', 'leave'], ['To', 'leave', 'would', 'be', 'a', 'pleasure'], ['John', 'was', 'struck', 'by', 'Bill', 'as', 'pompous'], ['John', 'was', 'promised', 'by', 'Bill', 'to', 'leave'], ['They', 'make', 'good', 'cooks'], ['there', 'is', 'nothing', 'to', 'do'], ['John', 'has', 'something', 'for', 'Bill', 'to', 'do'], ['I', 'am', 'counting', 'on', 'Bill', 'to', 'incriminate', 'himself'], ['On', 'whom', 'are', 'you', 'counting', 'to', 'incriminate', 'himself'], ['I', 'am', 'counting', 'on', 'Bill', 'to', 'get', 'there', 'on', 'time'], ['I', 'would', 'prefer', 'to', 'leave'], ['I', 'would', 'hate', 'for', 'John', 'to', 'leave'], ['I', 'would', 'prefer', 'for', 'John', 'to', 'leave'], ['It', 'was', 'hated', 'for', 'John', 'to', 'leave'], ['John', 'decided', 'for', 'Bill', 'to', 'get', 'the', 'prize'], ['John', 'decided', 'Bill', 'to', 'get', 'the', 'prize'], ['to', 'die', 'is', 'no', 'fun'], ['John', 'wants', 'to', 'leave'], ['John', 'counted', 'on', 'Bill', 'to', 'get', 'there', 'on', 'time'], ['I', 'bought', 'Bill', 'a', 'book', 'to', 'read'], ['John', 'told', 'Mary', 'that', 'it', 'would', 'be', 'important', 'to', 'leave', 'early'], ['John', 'told', 'Mary', 'that', 'it', 'was', 'important', 'to', 'Fred', 'to', 'leave', 'early'], ['John', 'told', 'Mary', 'that', 'it', 'would', 'be', 'appropriate', 'to', 'leave', 'together'], ['the', 'election', 'of', 'John', 'president', 'surprised', 'me'], ['Johns', 'arriving', 'dead', 'surprised', 'me'], ['the', 'attempt', 'by', 'John', 'to', 'leave', 'surprised', 'me'], ['John', 'left', 'orders', 'to', 'follow', 'Pete'], ['John', 'left', 'us', 'orders', 'to', 'follow', 'Pete'], ['John', 'left', 'orders', 'not', 'to', 'be', 'disturbed'], ['That', 'he', 'is', 'here', 'is', 'clear'], ['It', 'is', 'a', 'problem', 'that', 'he', 'is', 'here'], ['It', 'bothers', 'me', 'that', 'he', 'is', 'here'], ['John', 'regretted', 'it', 'that', 'Bill', 'had', 'a', 'good', 'time'], ['John', 'believes', 'it', 'that', 'Bill', 'is', 'here'], ['John', 'believes', 'it', 'sincerely', 'that', 'Bill', 'is', 'here'], ['John', 'is', 'aware', 'of', 'it', 'that', 'Bill', 'is', 'here'], ['John', 'felt', 'it', 'that', 'Bill', 'was', 'tardy'], ['John', 'believed', 'it', 'that', 'Bill', 'was', 'tardy'], ['It', 'was', 'believed', 'that', 'Bill', 'was', 'tardy'], ['That', 'John', 'is', 'reluctant', 'seems'], ['It', 'is', 'the', 'problem', 'that', 'he', 'is', 'here'], ['That', 'he', 'is', 'here', 'is', 'the', 'problem'], ['The', 'problem', 'we', 'are', 'discussing', 'is', 'George'], ['It', 'is', 'to', 'give', 'up', 'to', 'leave'], ['It', 'would', 'prove', 'our', 'theory', 'to', 'be', 'untenable', 'for', 'carrots', 'to', 'be', 'vegetables'], ['It', 'was', 'believed', 'to', 'be', 'illegal', 'by', 'them', 'to', 'do', 'that'], ['John', 'grudgingly', 'accepted', 'judgments', 'of', 'his', 'incompetence', 'as', 'an', 'auto', 'mechanic'], ['It', 'was', 'to', 'John', 'that', 'I', 'gave', 'the', 'book'], ['I', 'bought', 'it', 'to', 'read'], ['I', 'bought', 'it', 'to', 'give', 'to', 'Pete'], ['I', 'gave', 'it', 'to', 'Pete', 'to', 'take', 'to', 'the', 'fair'], ['I', 'gave', 'Pete', 'the', 'book', 'to', 'impress'], ['I', 'wrote', 'to', 'Bill'], ['I', 'presented', 'it', 'to', 'Bill', 'to', 'read'], ['I', 'presented', 'Bill', 'with', 'it', 'to', 'read'], ['I', 'gave', 'a', 'book', 'to', 'Bill', 'to', 'read'], ['John', 'thinks', 'it', 'would', 'upset', 'himself', 'to', 'die'], ['John', 'made', 'Bill', 'mad', 'at', 'himself'], ['John', 'made', 'Bill', 'master', 'of', 'himself'], ['The', 'correspondence', 'school', 'made', 'Bill', 'a', 'good', 'typist'], ['The', 'correspondence', 'school', 'sent', 'Bill', 'a', 'good', 'typist'], ['John', 'considers', 'Bill', 'silly'], ['John', 'considers', 'Bill', 'to', 'be', 'silly'], ['John', 'bought', 'a', 'dog', 'for', 'himself', 'to', 'play', 'with'], ['John', 'arranged', 'for', 'himself', 'to', 'get', 'the', 'prize'], ['John', 'talked', 'to', 'Bill', 'about', 'himself']]\n"
          ]
        }
      ]
    },
    {
      "cell_type": "code",
      "source": [
        "from glove import Glove\n",
        "from glove import Corpus\n",
        "#glove = Glove(no_components=100, learning_rate=0.01)\n",
        "glove = Glove.load_stanford(\"glove.6B.300d.txt\")\n",
        "print(glove.learning_rate)\n",
        "vocab = glove.dictionary"
      ],
      "metadata": {
        "colab": {
          "base_uri": "https://localhost:8080/"
        },
        "id": "dMxoPdo4VMra",
        "outputId": "cf210712-541f-4c08-8956-7f29f9071989"
      },
      "execution_count": null,
      "outputs": [
        {
          "output_type": "stream",
          "name": "stdout",
          "text": [
            "0.05\n"
          ]
        }
      ]
    },
    {
      "cell_type": "code",
      "source": [
        "from glove import Glove\n",
        "from glove import Corpus\n",
        "#glove = Glove.load_stanford(\"glove.6B.50d.txt\")\n",
        "#sentense = [['who','are','you']]*1000\n",
        "#print(sentense)\n",
        "print(len(dataset))\n",
        "corpus_model = Corpus()\n",
        "corpus_model.fit(dataset, window=10, ignore_missing=False)\n",
        "#glove = Glove(no_components=100, learning_rate=0.05)\n",
        "glove.add_dictionary(vocab)\n",
        "glove.fit(corpus_model.matrix, epochs=10, no_threads=1, verbose=True)\n",
        "\n"
      ],
      "metadata": {
        "colab": {
          "base_uri": "https://localhost:8080/"
        },
        "id": "MV3xSCJmOU6m",
        "outputId": "f1340b3b-7211-4dc3-ba10-a57bd273bb74"
      },
      "execution_count": null,
      "outputs": [
        {
          "output_type": "stream",
          "name": "stdout",
          "text": [
            "1043\n",
            "Performing 10 training epochs with 1 threads\n",
            "Epoch 0\n",
            "Epoch 1\n",
            "Epoch 2\n",
            "Epoch 3\n",
            "Epoch 4\n",
            "Epoch 5\n",
            "Epoch 6\n",
            "Epoch 7\n",
            "Epoch 8\n",
            "Epoch 9\n"
          ]
        }
      ]
    },
    {
      "cell_type": "code",
      "source": [
        "glove.most_similar('physics')"
      ],
      "metadata": {
        "colab": {
          "base_uri": "https://localhost:8080/"
        },
        "id": "vITDKRCrTbU9",
        "outputId": "314541a5-987b-4977-bda0-b1d12cdc2b61"
      },
      "execution_count": null,
      "outputs": [
        {
          "output_type": "execute_result",
          "data": {
            "text/plain": [
              "[('chemistry', 0.8995856999334902),\n",
              " ('mathematics', 0.8771122403374771),\n",
              " ('theoretical', 0.8480029314041797),\n",
              " ('science', 0.8314354858741894)]"
            ]
          },
          "metadata": {},
          "execution_count": 41
        }
      ]
    },
    {
      "cell_type": "code",
      "source": [
        "glove.save('glove.model')"
      ],
      "metadata": {
        "id": "WF5r1mHKcNU5"
      },
      "execution_count": null,
      "outputs": []
    },
    {
      "cell_type": "code",
      "source": [
        "import argparse\n",
        "from collections import defaultdict\n",
        "import numpy as np\n",
        "import os\n",
        "from glove import Glove, metrics\n",
        "\n",
        "\n",
        "\n",
        "\n",
        "# Load the GloVe model\n",
        "glove = Glove.load('glove.model')\n",
        "\n",
        "\n",
        "\n",
        "filenames = os.listdir('question-data/')\n",
        "for filename in filenames:\n",
        "  # Load the analogy task dataset. One example can be obtained at\n",
        "  # https://word2vec.googlecode.com/svn/trunk/questions-words.txt\n",
        "  sections = defaultdict(list)\n",
        "  print(filename)\n",
        "  evaluation_words = [sections[section].append(words) for section, words in\n",
        "                      metrics.read_analogy_file('question-data/' + filename)]\n",
        "\n",
        "  section_ranks = []\n",
        "\n",
        "  for section, words in sections.items():\n",
        "      evaluation_ids = metrics.construct_analogy_test_set(words,\n",
        "                                                          glove.dictionary,\n",
        "                                                          ignore_missing=True)\n",
        "\n",
        "      # Get the rank array.\n",
        "      ranks = metrics.analogy_rank_score(evaluation_ids, glove.word_vectors,\n",
        "                                          no_threads=int(1))\n",
        "      section_ranks.append(ranks)\n",
        "\n",
        "      print('Section %s mean rank: %s, accuracy: %s' % (section, ranks.mean(), \n",
        "                                                        (ranks == 0).sum() / float(len(ranks))))\n",
        "\n",
        "  ranks = np.hstack(section_ranks)\n",
        "\n",
        "  print('Overall rank: %s, accuracy: %s' % (ranks.mean(), \n",
        "                                            (ranks == 0).sum() / float(len(ranks))))\n",
        "  print()"
      ],
      "metadata": {
        "colab": {
          "base_uri": "https://localhost:8080/"
        },
        "id": "oDsG320CYbsy",
        "outputId": "ac8935e8-b29f-441b-aa65-3d77028b878d"
      },
      "execution_count": null,
      "outputs": [
        {
          "output_type": "stream",
          "name": "stdout",
          "text": [
            "gram3-comparative.txt\n",
            "Section None mean rank: 2.31418340373068e-06, accuracy: 0.8723723723723724\n",
            "Overall rank: 2.31418340373068e-06, accuracy: 0.8723723723723724\n",
            "\n",
            "family.txt\n",
            "Section None mean rank: 1.6650156003068491e-06, accuracy: 0.8774703557312253\n",
            "Overall rank: 1.6650156003068491e-06, accuracy: 0.8774703557312253\n",
            "\n",
            "currency.txt\n",
            "Section None mean rank: 0.03443902475694158, accuracy: 0.16166281755196305\n",
            "Overall rank: 0.03443902475694158, accuracy: 0.16166281755196305\n",
            "\n",
            "gram2-opposite.txt\n",
            "Section None mean rank: 0.009442808905293008, accuracy: 0.2684729064039409\n",
            "Overall rank: 0.009442808905293008, accuracy: 0.2684729064039409\n",
            "\n",
            "gram1-adjective-to-adverb.txt\n",
            "Section None mean rank: 0.0003323025966628632, accuracy: 0.2247983870967742\n",
            "Overall rank: 0.0003323025966628632, accuracy: 0.2247983870967742\n",
            "\n",
            "city-in-state.txt\n",
            "Section None mean rank: 4.2125958730502445e-05, accuracy: 0.6043777867855695\n",
            "Overall rank: 4.2125958730502445e-05, accuracy: 0.6043777867855695\n",
            "\n",
            "capital-world.txt\n",
            "Section None mean rank: 2.9453949353632364e-07, accuracy: 0.9597701149425287\n",
            "Overall rank: 2.9453949353632364e-07, accuracy: 0.9597701149425287\n",
            "\n",
            "capital-common-countries.txt\n",
            "Section None mean rank: 2.569163537565465e-07, accuracy: 0.9545454545454546\n",
            "Overall rank: 2.569163537565465e-07, accuracy: 0.9545454545454546\n",
            "\n",
            "gram9-plural-verbs.txt\n",
            "Section None mean rank: 5.951709258657888e-05, accuracy: 0.5850574712643678\n",
            "Overall rank: 5.951709258657888e-05, accuracy: 0.5850574712643678\n",
            "\n",
            "gram8-plural.txt\n",
            "Section None mean rank: 2.006376365440468e-06, accuracy: 0.7785285285285285\n",
            "Overall rank: 2.006376365440468e-06, accuracy: 0.7785285285285285\n",
            "\n",
            "gram7-past-tense.txt\n",
            "Section None mean rank: 1.843585134626907e-05, accuracy: 0.5961538461538461\n",
            "Overall rank: 1.843585134626907e-05, accuracy: 0.5961538461538461\n",
            "\n",
            "gram6-nationality-adjective.txt\n",
            "Section None mean rank: 6.175719394972933e-06, accuracy: 0.9255784865540964\n",
            "Overall rank: 6.175719394972933e-06, accuracy: 0.9255784865540964\n",
            "\n",
            "gram5-present-participle.txt\n",
            "Section None mean rank: 7.587575728030376e-06, accuracy: 0.6950757575757576\n",
            "Overall rank: 7.587575728030376e-06, accuracy: 0.6950757575757576\n",
            "\n",
            "gram4-superlative.txt\n",
            "Section None mean rank: 9.442935394444046e-06, accuracy: 0.7076648841354723\n",
            "Overall rank: 9.442935394444046e-06, accuracy: 0.7076648841354723\n",
            "\n"
          ]
        }
      ]
    },
    {
      "cell_type": "code",
      "source": [
        "\n",
        "#Usage\n",
        "word_embedding =glove.Glove.load_stanford('glove.twitter.27B.25d.txt')\n",
        "EMBEDDING_DIM = 25\n",
        "word_embedding_rnn = np.vstack([ \n",
        "        np.zeros( (1, EMBEDDING_DIM,), dtype='float32'),   # This is the 'zero' value (used as a mask in Keras)\n",
        "        np.zeros( (1, EMBEDDING_DIM,), dtype='float32'),   # This is for 'UNK'  (word == 1)\n",
        "        word_embedding.word_vectors,\n",
        "    ])\n",
        "word_embedding_rnn.shape\n",
        "data['tweet_token2'] = map(word_idx_rnn,data['tweet_token'])"
      ],
      "metadata": {
        "id": "hEaEGxRMcWNZ"
      },
      "execution_count": null,
      "outputs": []
    }
  ]
}